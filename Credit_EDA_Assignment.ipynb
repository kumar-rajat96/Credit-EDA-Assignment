{
 "cells": [
  {
   "cell_type": "markdown",
   "id": "6763b70a",
   "metadata": {},
   "source": [
    "### IMPORTING LIBRARIES"
   ]
  },
  {
   "cell_type": "code",
   "execution_count": 101,
   "id": "05172cdc",
   "metadata": {},
   "outputs": [],
   "source": [
    "import pandas as pd\n",
    "import numpy as np\n",
    "import seaborn as sns\n",
    "import matplotlib.pyplot as plt\n",
    "import warnings\n",
    "warnings.filterwarnings(\"ignore\")"
   ]
  },
  {
   "cell_type": "markdown",
   "id": "12b7e587",
   "metadata": {},
   "source": [
    "### READING DATA FILE AND UNDERSTANDING DATA"
   ]
  },
  {
   "cell_type": "code",
   "execution_count": 102,
   "id": "690a7036",
   "metadata": {},
   "outputs": [],
   "source": [
    "#df is assigned variable for csv file \"application_data.csv\"\n",
    "\n",
    "df=pd.read_csv(r\"C:\\Users\\RAJAT KUMAR\\Desktop\\DATA SCIENCE\\Python material\\EDA\\Credit EDA assignment\\application_data.csv\")"
   ]
  },
  {
   "cell_type": "code",
   "execution_count": 103,
   "id": "3e2b0eae",
   "metadata": {},
   "outputs": [],
   "source": [
    "#df1 is assigned variable for csv file \"previous_application.csv\"\n",
    "\n",
    "df1=pd.read_csv(r\"C:\\Users\\RAJAT KUMAR\\Desktop\\DATA SCIENCE\\Python material\\EDA\\Credit EDA assignment\\previous_application.csv\")"
   ]
  },
  {
   "cell_type": "code",
   "execution_count": 104,
   "id": "4f911530",
   "metadata": {},
   "outputs": [
    {
     "data": {
      "text/plain": [
       "(307511, 122)"
      ]
     },
     "execution_count": 104,
     "metadata": {},
     "output_type": "execute_result"
    }
   ],
   "source": [
    "df.shape #There are 307511 rows and 122 columns"
   ]
  },
  {
   "cell_type": "code",
   "execution_count": 105,
   "id": "f43f2095",
   "metadata": {},
   "outputs": [
    {
     "data": {
      "text/html": [
       "<div>\n",
       "<style scoped>\n",
       "    .dataframe tbody tr th:only-of-type {\n",
       "        vertical-align: middle;\n",
       "    }\n",
       "\n",
       "    .dataframe tbody tr th {\n",
       "        vertical-align: top;\n",
       "    }\n",
       "\n",
       "    .dataframe thead th {\n",
       "        text-align: right;\n",
       "    }\n",
       "</style>\n",
       "<table border=\"1\" class=\"dataframe\">\n",
       "  <thead>\n",
       "    <tr style=\"text-align: right;\">\n",
       "      <th></th>\n",
       "      <th>SK_ID_CURR</th>\n",
       "      <th>TARGET</th>\n",
       "      <th>NAME_CONTRACT_TYPE</th>\n",
       "      <th>CODE_GENDER</th>\n",
       "      <th>FLAG_OWN_CAR</th>\n",
       "      <th>FLAG_OWN_REALTY</th>\n",
       "      <th>CNT_CHILDREN</th>\n",
       "      <th>AMT_INCOME_TOTAL</th>\n",
       "      <th>AMT_CREDIT</th>\n",
       "      <th>AMT_ANNUITY</th>\n",
       "      <th>...</th>\n",
       "      <th>FLAG_DOCUMENT_18</th>\n",
       "      <th>FLAG_DOCUMENT_19</th>\n",
       "      <th>FLAG_DOCUMENT_20</th>\n",
       "      <th>FLAG_DOCUMENT_21</th>\n",
       "      <th>AMT_REQ_CREDIT_BUREAU_HOUR</th>\n",
       "      <th>AMT_REQ_CREDIT_BUREAU_DAY</th>\n",
       "      <th>AMT_REQ_CREDIT_BUREAU_WEEK</th>\n",
       "      <th>AMT_REQ_CREDIT_BUREAU_MON</th>\n",
       "      <th>AMT_REQ_CREDIT_BUREAU_QRT</th>\n",
       "      <th>AMT_REQ_CREDIT_BUREAU_YEAR</th>\n",
       "    </tr>\n",
       "  </thead>\n",
       "  <tbody>\n",
       "    <tr>\n",
       "      <th>0</th>\n",
       "      <td>100002</td>\n",
       "      <td>1</td>\n",
       "      <td>Cash loans</td>\n",
       "      <td>M</td>\n",
       "      <td>N</td>\n",
       "      <td>Y</td>\n",
       "      <td>0</td>\n",
       "      <td>202500.0</td>\n",
       "      <td>406597.5</td>\n",
       "      <td>24700.5</td>\n",
       "      <td>...</td>\n",
       "      <td>0</td>\n",
       "      <td>0</td>\n",
       "      <td>0</td>\n",
       "      <td>0</td>\n",
       "      <td>0.0</td>\n",
       "      <td>0.0</td>\n",
       "      <td>0.0</td>\n",
       "      <td>0.0</td>\n",
       "      <td>0.0</td>\n",
       "      <td>1.0</td>\n",
       "    </tr>\n",
       "    <tr>\n",
       "      <th>1</th>\n",
       "      <td>100003</td>\n",
       "      <td>0</td>\n",
       "      <td>Cash loans</td>\n",
       "      <td>F</td>\n",
       "      <td>N</td>\n",
       "      <td>N</td>\n",
       "      <td>0</td>\n",
       "      <td>270000.0</td>\n",
       "      <td>1293502.5</td>\n",
       "      <td>35698.5</td>\n",
       "      <td>...</td>\n",
       "      <td>0</td>\n",
       "      <td>0</td>\n",
       "      <td>0</td>\n",
       "      <td>0</td>\n",
       "      <td>0.0</td>\n",
       "      <td>0.0</td>\n",
       "      <td>0.0</td>\n",
       "      <td>0.0</td>\n",
       "      <td>0.0</td>\n",
       "      <td>0.0</td>\n",
       "    </tr>\n",
       "    <tr>\n",
       "      <th>2</th>\n",
       "      <td>100004</td>\n",
       "      <td>0</td>\n",
       "      <td>Revolving loans</td>\n",
       "      <td>M</td>\n",
       "      <td>Y</td>\n",
       "      <td>Y</td>\n",
       "      <td>0</td>\n",
       "      <td>67500.0</td>\n",
       "      <td>135000.0</td>\n",
       "      <td>6750.0</td>\n",
       "      <td>...</td>\n",
       "      <td>0</td>\n",
       "      <td>0</td>\n",
       "      <td>0</td>\n",
       "      <td>0</td>\n",
       "      <td>0.0</td>\n",
       "      <td>0.0</td>\n",
       "      <td>0.0</td>\n",
       "      <td>0.0</td>\n",
       "      <td>0.0</td>\n",
       "      <td>0.0</td>\n",
       "    </tr>\n",
       "    <tr>\n",
       "      <th>3</th>\n",
       "      <td>100006</td>\n",
       "      <td>0</td>\n",
       "      <td>Cash loans</td>\n",
       "      <td>F</td>\n",
       "      <td>N</td>\n",
       "      <td>Y</td>\n",
       "      <td>0</td>\n",
       "      <td>135000.0</td>\n",
       "      <td>312682.5</td>\n",
       "      <td>29686.5</td>\n",
       "      <td>...</td>\n",
       "      <td>0</td>\n",
       "      <td>0</td>\n",
       "      <td>0</td>\n",
       "      <td>0</td>\n",
       "      <td>NaN</td>\n",
       "      <td>NaN</td>\n",
       "      <td>NaN</td>\n",
       "      <td>NaN</td>\n",
       "      <td>NaN</td>\n",
       "      <td>NaN</td>\n",
       "    </tr>\n",
       "    <tr>\n",
       "      <th>4</th>\n",
       "      <td>100007</td>\n",
       "      <td>0</td>\n",
       "      <td>Cash loans</td>\n",
       "      <td>M</td>\n",
       "      <td>N</td>\n",
       "      <td>Y</td>\n",
       "      <td>0</td>\n",
       "      <td>121500.0</td>\n",
       "      <td>513000.0</td>\n",
       "      <td>21865.5</td>\n",
       "      <td>...</td>\n",
       "      <td>0</td>\n",
       "      <td>0</td>\n",
       "      <td>0</td>\n",
       "      <td>0</td>\n",
       "      <td>0.0</td>\n",
       "      <td>0.0</td>\n",
       "      <td>0.0</td>\n",
       "      <td>0.0</td>\n",
       "      <td>0.0</td>\n",
       "      <td>0.0</td>\n",
       "    </tr>\n",
       "  </tbody>\n",
       "</table>\n",
       "<p>5 rows × 122 columns</p>\n",
       "</div>"
      ],
      "text/plain": [
       "   SK_ID_CURR  TARGET NAME_CONTRACT_TYPE CODE_GENDER FLAG_OWN_CAR  \\\n",
       "0      100002       1         Cash loans           M            N   \n",
       "1      100003       0         Cash loans           F            N   \n",
       "2      100004       0    Revolving loans           M            Y   \n",
       "3      100006       0         Cash loans           F            N   \n",
       "4      100007       0         Cash loans           M            N   \n",
       "\n",
       "  FLAG_OWN_REALTY  CNT_CHILDREN  AMT_INCOME_TOTAL  AMT_CREDIT  AMT_ANNUITY  \\\n",
       "0               Y             0          202500.0    406597.5      24700.5   \n",
       "1               N             0          270000.0   1293502.5      35698.5   \n",
       "2               Y             0           67500.0    135000.0       6750.0   \n",
       "3               Y             0          135000.0    312682.5      29686.5   \n",
       "4               Y             0          121500.0    513000.0      21865.5   \n",
       "\n",
       "   ...  FLAG_DOCUMENT_18 FLAG_DOCUMENT_19 FLAG_DOCUMENT_20 FLAG_DOCUMENT_21  \\\n",
       "0  ...                 0                0                0                0   \n",
       "1  ...                 0                0                0                0   \n",
       "2  ...                 0                0                0                0   \n",
       "3  ...                 0                0                0                0   \n",
       "4  ...                 0                0                0                0   \n",
       "\n",
       "  AMT_REQ_CREDIT_BUREAU_HOUR AMT_REQ_CREDIT_BUREAU_DAY  \\\n",
       "0                        0.0                       0.0   \n",
       "1                        0.0                       0.0   \n",
       "2                        0.0                       0.0   \n",
       "3                        NaN                       NaN   \n",
       "4                        0.0                       0.0   \n",
       "\n",
       "   AMT_REQ_CREDIT_BUREAU_WEEK  AMT_REQ_CREDIT_BUREAU_MON  \\\n",
       "0                         0.0                        0.0   \n",
       "1                         0.0                        0.0   \n",
       "2                         0.0                        0.0   \n",
       "3                         NaN                        NaN   \n",
       "4                         0.0                        0.0   \n",
       "\n",
       "   AMT_REQ_CREDIT_BUREAU_QRT  AMT_REQ_CREDIT_BUREAU_YEAR  \n",
       "0                        0.0                         1.0  \n",
       "1                        0.0                         0.0  \n",
       "2                        0.0                         0.0  \n",
       "3                        NaN                         NaN  \n",
       "4                        0.0                         0.0  \n",
       "\n",
       "[5 rows x 122 columns]"
      ]
     },
     "execution_count": 105,
     "metadata": {},
     "output_type": "execute_result"
    }
   ],
   "source": [
    "df.head()"
   ]
  },
  {
   "cell_type": "code",
   "execution_count": 106,
   "id": "460529ef",
   "metadata": {},
   "outputs": [
    {
     "data": {
      "text/plain": [
       "(1670214, 37)"
      ]
     },
     "execution_count": 106,
     "metadata": {},
     "output_type": "execute_result"
    }
   ],
   "source": [
    "df1.shape #There are 1670214 rows and 37 columns"
   ]
  },
  {
   "cell_type": "code",
   "execution_count": 107,
   "id": "2a417b2d",
   "metadata": {},
   "outputs": [
    {
     "data": {
      "text/html": [
       "<div>\n",
       "<style scoped>\n",
       "    .dataframe tbody tr th:only-of-type {\n",
       "        vertical-align: middle;\n",
       "    }\n",
       "\n",
       "    .dataframe tbody tr th {\n",
       "        vertical-align: top;\n",
       "    }\n",
       "\n",
       "    .dataframe thead th {\n",
       "        text-align: right;\n",
       "    }\n",
       "</style>\n",
       "<table border=\"1\" class=\"dataframe\">\n",
       "  <thead>\n",
       "    <tr style=\"text-align: right;\">\n",
       "      <th></th>\n",
       "      <th>SK_ID_PREV</th>\n",
       "      <th>SK_ID_CURR</th>\n",
       "      <th>NAME_CONTRACT_TYPE</th>\n",
       "      <th>AMT_ANNUITY</th>\n",
       "      <th>AMT_APPLICATION</th>\n",
       "      <th>AMT_CREDIT</th>\n",
       "      <th>AMT_DOWN_PAYMENT</th>\n",
       "      <th>AMT_GOODS_PRICE</th>\n",
       "      <th>WEEKDAY_APPR_PROCESS_START</th>\n",
       "      <th>HOUR_APPR_PROCESS_START</th>\n",
       "      <th>...</th>\n",
       "      <th>NAME_SELLER_INDUSTRY</th>\n",
       "      <th>CNT_PAYMENT</th>\n",
       "      <th>NAME_YIELD_GROUP</th>\n",
       "      <th>PRODUCT_COMBINATION</th>\n",
       "      <th>DAYS_FIRST_DRAWING</th>\n",
       "      <th>DAYS_FIRST_DUE</th>\n",
       "      <th>DAYS_LAST_DUE_1ST_VERSION</th>\n",
       "      <th>DAYS_LAST_DUE</th>\n",
       "      <th>DAYS_TERMINATION</th>\n",
       "      <th>NFLAG_INSURED_ON_APPROVAL</th>\n",
       "    </tr>\n",
       "  </thead>\n",
       "  <tbody>\n",
       "    <tr>\n",
       "      <th>0</th>\n",
       "      <td>2030495</td>\n",
       "      <td>271877</td>\n",
       "      <td>Consumer loans</td>\n",
       "      <td>1730.430</td>\n",
       "      <td>17145.0</td>\n",
       "      <td>17145.0</td>\n",
       "      <td>0.0</td>\n",
       "      <td>17145.0</td>\n",
       "      <td>SATURDAY</td>\n",
       "      <td>15</td>\n",
       "      <td>...</td>\n",
       "      <td>Connectivity</td>\n",
       "      <td>12.0</td>\n",
       "      <td>middle</td>\n",
       "      <td>POS mobile with interest</td>\n",
       "      <td>365243.0</td>\n",
       "      <td>-42.0</td>\n",
       "      <td>300.0</td>\n",
       "      <td>-42.0</td>\n",
       "      <td>-37.0</td>\n",
       "      <td>0.0</td>\n",
       "    </tr>\n",
       "    <tr>\n",
       "      <th>1</th>\n",
       "      <td>2802425</td>\n",
       "      <td>108129</td>\n",
       "      <td>Cash loans</td>\n",
       "      <td>25188.615</td>\n",
       "      <td>607500.0</td>\n",
       "      <td>679671.0</td>\n",
       "      <td>NaN</td>\n",
       "      <td>607500.0</td>\n",
       "      <td>THURSDAY</td>\n",
       "      <td>11</td>\n",
       "      <td>...</td>\n",
       "      <td>XNA</td>\n",
       "      <td>36.0</td>\n",
       "      <td>low_action</td>\n",
       "      <td>Cash X-Sell: low</td>\n",
       "      <td>365243.0</td>\n",
       "      <td>-134.0</td>\n",
       "      <td>916.0</td>\n",
       "      <td>365243.0</td>\n",
       "      <td>365243.0</td>\n",
       "      <td>1.0</td>\n",
       "    </tr>\n",
       "    <tr>\n",
       "      <th>2</th>\n",
       "      <td>2523466</td>\n",
       "      <td>122040</td>\n",
       "      <td>Cash loans</td>\n",
       "      <td>15060.735</td>\n",
       "      <td>112500.0</td>\n",
       "      <td>136444.5</td>\n",
       "      <td>NaN</td>\n",
       "      <td>112500.0</td>\n",
       "      <td>TUESDAY</td>\n",
       "      <td>11</td>\n",
       "      <td>...</td>\n",
       "      <td>XNA</td>\n",
       "      <td>12.0</td>\n",
       "      <td>high</td>\n",
       "      <td>Cash X-Sell: high</td>\n",
       "      <td>365243.0</td>\n",
       "      <td>-271.0</td>\n",
       "      <td>59.0</td>\n",
       "      <td>365243.0</td>\n",
       "      <td>365243.0</td>\n",
       "      <td>1.0</td>\n",
       "    </tr>\n",
       "    <tr>\n",
       "      <th>3</th>\n",
       "      <td>2819243</td>\n",
       "      <td>176158</td>\n",
       "      <td>Cash loans</td>\n",
       "      <td>47041.335</td>\n",
       "      <td>450000.0</td>\n",
       "      <td>470790.0</td>\n",
       "      <td>NaN</td>\n",
       "      <td>450000.0</td>\n",
       "      <td>MONDAY</td>\n",
       "      <td>7</td>\n",
       "      <td>...</td>\n",
       "      <td>XNA</td>\n",
       "      <td>12.0</td>\n",
       "      <td>middle</td>\n",
       "      <td>Cash X-Sell: middle</td>\n",
       "      <td>365243.0</td>\n",
       "      <td>-482.0</td>\n",
       "      <td>-152.0</td>\n",
       "      <td>-182.0</td>\n",
       "      <td>-177.0</td>\n",
       "      <td>1.0</td>\n",
       "    </tr>\n",
       "    <tr>\n",
       "      <th>4</th>\n",
       "      <td>1784265</td>\n",
       "      <td>202054</td>\n",
       "      <td>Cash loans</td>\n",
       "      <td>31924.395</td>\n",
       "      <td>337500.0</td>\n",
       "      <td>404055.0</td>\n",
       "      <td>NaN</td>\n",
       "      <td>337500.0</td>\n",
       "      <td>THURSDAY</td>\n",
       "      <td>9</td>\n",
       "      <td>...</td>\n",
       "      <td>XNA</td>\n",
       "      <td>24.0</td>\n",
       "      <td>high</td>\n",
       "      <td>Cash Street: high</td>\n",
       "      <td>NaN</td>\n",
       "      <td>NaN</td>\n",
       "      <td>NaN</td>\n",
       "      <td>NaN</td>\n",
       "      <td>NaN</td>\n",
       "      <td>NaN</td>\n",
       "    </tr>\n",
       "  </tbody>\n",
       "</table>\n",
       "<p>5 rows × 37 columns</p>\n",
       "</div>"
      ],
      "text/plain": [
       "   SK_ID_PREV  SK_ID_CURR NAME_CONTRACT_TYPE  AMT_ANNUITY  AMT_APPLICATION  \\\n",
       "0     2030495      271877     Consumer loans     1730.430          17145.0   \n",
       "1     2802425      108129         Cash loans    25188.615         607500.0   \n",
       "2     2523466      122040         Cash loans    15060.735         112500.0   \n",
       "3     2819243      176158         Cash loans    47041.335         450000.0   \n",
       "4     1784265      202054         Cash loans    31924.395         337500.0   \n",
       "\n",
       "   AMT_CREDIT  AMT_DOWN_PAYMENT  AMT_GOODS_PRICE WEEKDAY_APPR_PROCESS_START  \\\n",
       "0     17145.0               0.0          17145.0                   SATURDAY   \n",
       "1    679671.0               NaN         607500.0                   THURSDAY   \n",
       "2    136444.5               NaN         112500.0                    TUESDAY   \n",
       "3    470790.0               NaN         450000.0                     MONDAY   \n",
       "4    404055.0               NaN         337500.0                   THURSDAY   \n",
       "\n",
       "   HOUR_APPR_PROCESS_START  ... NAME_SELLER_INDUSTRY  CNT_PAYMENT  \\\n",
       "0                       15  ...         Connectivity         12.0   \n",
       "1                       11  ...                  XNA         36.0   \n",
       "2                       11  ...                  XNA         12.0   \n",
       "3                        7  ...                  XNA         12.0   \n",
       "4                        9  ...                  XNA         24.0   \n",
       "\n",
       "   NAME_YIELD_GROUP       PRODUCT_COMBINATION  DAYS_FIRST_DRAWING  \\\n",
       "0            middle  POS mobile with interest            365243.0   \n",
       "1        low_action          Cash X-Sell: low            365243.0   \n",
       "2              high         Cash X-Sell: high            365243.0   \n",
       "3            middle       Cash X-Sell: middle            365243.0   \n",
       "4              high         Cash Street: high                 NaN   \n",
       "\n",
       "  DAYS_FIRST_DUE DAYS_LAST_DUE_1ST_VERSION  DAYS_LAST_DUE DAYS_TERMINATION  \\\n",
       "0          -42.0                     300.0          -42.0            -37.0   \n",
       "1         -134.0                     916.0       365243.0         365243.0   \n",
       "2         -271.0                      59.0       365243.0         365243.0   \n",
       "3         -482.0                    -152.0         -182.0           -177.0   \n",
       "4            NaN                       NaN            NaN              NaN   \n",
       "\n",
       "  NFLAG_INSURED_ON_APPROVAL  \n",
       "0                       0.0  \n",
       "1                       1.0  \n",
       "2                       1.0  \n",
       "3                       1.0  \n",
       "4                       NaN  \n",
       "\n",
       "[5 rows x 37 columns]"
      ]
     },
     "execution_count": 107,
     "metadata": {},
     "output_type": "execute_result"
    }
   ],
   "source": [
    "df1.head()"
   ]
  },
  {
   "cell_type": "markdown",
   "id": "f0514c42",
   "metadata": {},
   "source": [
    "### DATA CLEANING AND MANIPULATION FOR DATAFRAME \"df\""
   ]
  },
  {
   "cell_type": "code",
   "execution_count": 108,
   "id": "8cd6520d",
   "metadata": {},
   "outputs": [
    {
     "data": {
      "text/plain": [
       "DEF_30_CNT_SOCIAL_CIRCLE       1021\n",
       "OBS_60_CNT_SOCIAL_CIRCLE       1021\n",
       "DEF_60_CNT_SOCIAL_CIRCLE       1021\n",
       "DAYS_LAST_PHONE_CHANGE            1\n",
       "FLAG_DOCUMENT_2                   0\n",
       "FLAG_DOCUMENT_3                   0\n",
       "FLAG_DOCUMENT_4                   0\n",
       "FLAG_DOCUMENT_5                   0\n",
       "FLAG_DOCUMENT_6                   0\n",
       "FLAG_DOCUMENT_7                   0\n",
       "FLAG_DOCUMENT_8                   0\n",
       "FLAG_DOCUMENT_9                   0\n",
       "FLAG_DOCUMENT_10                  0\n",
       "FLAG_DOCUMENT_11                  0\n",
       "FLAG_DOCUMENT_12                  0\n",
       "FLAG_DOCUMENT_13                  0\n",
       "FLAG_DOCUMENT_14                  0\n",
       "FLAG_DOCUMENT_15                  0\n",
       "FLAG_DOCUMENT_16                  0\n",
       "FLAG_DOCUMENT_17                  0\n",
       "FLAG_DOCUMENT_18                  0\n",
       "FLAG_DOCUMENT_19                  0\n",
       "FLAG_DOCUMENT_20                  0\n",
       "FLAG_DOCUMENT_21                  0\n",
       "AMT_REQ_CREDIT_BUREAU_HOUR    41519\n",
       "AMT_REQ_CREDIT_BUREAU_DAY     41519\n",
       "AMT_REQ_CREDIT_BUREAU_WEEK    41519\n",
       "AMT_REQ_CREDIT_BUREAU_MON     41519\n",
       "AMT_REQ_CREDIT_BUREAU_QRT     41519\n",
       "AMT_REQ_CREDIT_BUREAU_YEAR    41519\n",
       "dtype: int64"
      ]
     },
     "execution_count": 108,
     "metadata": {},
     "output_type": "execute_result"
    }
   ],
   "source": [
    "df.isnull().sum().tail(30)"
   ]
  },
  {
   "cell_type": "code",
   "execution_count": 109,
   "id": "7e824f9b",
   "metadata": {},
   "outputs": [
    {
     "name": "stdout",
     "output_type": "stream",
     "text": [
      "<class 'pandas.core.frame.DataFrame'>\n",
      "RangeIndex: 307511 entries, 0 to 307510\n",
      "Data columns (total 122 columns):\n",
      " #    Column                        Dtype  \n",
      "---   ------                        -----  \n",
      " 0    SK_ID_CURR                    int64  \n",
      " 1    TARGET                        int64  \n",
      " 2    NAME_CONTRACT_TYPE            object \n",
      " 3    CODE_GENDER                   object \n",
      " 4    FLAG_OWN_CAR                  object \n",
      " 5    FLAG_OWN_REALTY               object \n",
      " 6    CNT_CHILDREN                  int64  \n",
      " 7    AMT_INCOME_TOTAL              float64\n",
      " 8    AMT_CREDIT                    float64\n",
      " 9    AMT_ANNUITY                   float64\n",
      " 10   AMT_GOODS_PRICE               float64\n",
      " 11   NAME_TYPE_SUITE               object \n",
      " 12   NAME_INCOME_TYPE              object \n",
      " 13   NAME_EDUCATION_TYPE           object \n",
      " 14   NAME_FAMILY_STATUS            object \n",
      " 15   NAME_HOUSING_TYPE             object \n",
      " 16   REGION_POPULATION_RELATIVE    float64\n",
      " 17   DAYS_BIRTH                    int64  \n",
      " 18   DAYS_EMPLOYED                 int64  \n",
      " 19   DAYS_REGISTRATION             float64\n",
      " 20   DAYS_ID_PUBLISH               int64  \n",
      " 21   OWN_CAR_AGE                   float64\n",
      " 22   FLAG_MOBIL                    int64  \n",
      " 23   FLAG_EMP_PHONE                int64  \n",
      " 24   FLAG_WORK_PHONE               int64  \n",
      " 25   FLAG_CONT_MOBILE              int64  \n",
      " 26   FLAG_PHONE                    int64  \n",
      " 27   FLAG_EMAIL                    int64  \n",
      " 28   OCCUPATION_TYPE               object \n",
      " 29   CNT_FAM_MEMBERS               float64\n",
      " 30   REGION_RATING_CLIENT          int64  \n",
      " 31   REGION_RATING_CLIENT_W_CITY   int64  \n",
      " 32   WEEKDAY_APPR_PROCESS_START    object \n",
      " 33   HOUR_APPR_PROCESS_START       int64  \n",
      " 34   REG_REGION_NOT_LIVE_REGION    int64  \n",
      " 35   REG_REGION_NOT_WORK_REGION    int64  \n",
      " 36   LIVE_REGION_NOT_WORK_REGION   int64  \n",
      " 37   REG_CITY_NOT_LIVE_CITY        int64  \n",
      " 38   REG_CITY_NOT_WORK_CITY        int64  \n",
      " 39   LIVE_CITY_NOT_WORK_CITY       int64  \n",
      " 40   ORGANIZATION_TYPE             object \n",
      " 41   EXT_SOURCE_1                  float64\n",
      " 42   EXT_SOURCE_2                  float64\n",
      " 43   EXT_SOURCE_3                  float64\n",
      " 44   APARTMENTS_AVG                float64\n",
      " 45   BASEMENTAREA_AVG              float64\n",
      " 46   YEARS_BEGINEXPLUATATION_AVG   float64\n",
      " 47   YEARS_BUILD_AVG               float64\n",
      " 48   COMMONAREA_AVG                float64\n",
      " 49   ELEVATORS_AVG                 float64\n",
      " 50   ENTRANCES_AVG                 float64\n",
      " 51   FLOORSMAX_AVG                 float64\n",
      " 52   FLOORSMIN_AVG                 float64\n",
      " 53   LANDAREA_AVG                  float64\n",
      " 54   LIVINGAPARTMENTS_AVG          float64\n",
      " 55   LIVINGAREA_AVG                float64\n",
      " 56   NONLIVINGAPARTMENTS_AVG       float64\n",
      " 57   NONLIVINGAREA_AVG             float64\n",
      " 58   APARTMENTS_MODE               float64\n",
      " 59   BASEMENTAREA_MODE             float64\n",
      " 60   YEARS_BEGINEXPLUATATION_MODE  float64\n",
      " 61   YEARS_BUILD_MODE              float64\n",
      " 62   COMMONAREA_MODE               float64\n",
      " 63   ELEVATORS_MODE                float64\n",
      " 64   ENTRANCES_MODE                float64\n",
      " 65   FLOORSMAX_MODE                float64\n",
      " 66   FLOORSMIN_MODE                float64\n",
      " 67   LANDAREA_MODE                 float64\n",
      " 68   LIVINGAPARTMENTS_MODE         float64\n",
      " 69   LIVINGAREA_MODE               float64\n",
      " 70   NONLIVINGAPARTMENTS_MODE      float64\n",
      " 71   NONLIVINGAREA_MODE            float64\n",
      " 72   APARTMENTS_MEDI               float64\n",
      " 73   BASEMENTAREA_MEDI             float64\n",
      " 74   YEARS_BEGINEXPLUATATION_MEDI  float64\n",
      " 75   YEARS_BUILD_MEDI              float64\n",
      " 76   COMMONAREA_MEDI               float64\n",
      " 77   ELEVATORS_MEDI                float64\n",
      " 78   ENTRANCES_MEDI                float64\n",
      " 79   FLOORSMAX_MEDI                float64\n",
      " 80   FLOORSMIN_MEDI                float64\n",
      " 81   LANDAREA_MEDI                 float64\n",
      " 82   LIVINGAPARTMENTS_MEDI         float64\n",
      " 83   LIVINGAREA_MEDI               float64\n",
      " 84   NONLIVINGAPARTMENTS_MEDI      float64\n",
      " 85   NONLIVINGAREA_MEDI            float64\n",
      " 86   FONDKAPREMONT_MODE            object \n",
      " 87   HOUSETYPE_MODE                object \n",
      " 88   TOTALAREA_MODE                float64\n",
      " 89   WALLSMATERIAL_MODE            object \n",
      " 90   EMERGENCYSTATE_MODE           object \n",
      " 91   OBS_30_CNT_SOCIAL_CIRCLE      float64\n",
      " 92   DEF_30_CNT_SOCIAL_CIRCLE      float64\n",
      " 93   OBS_60_CNT_SOCIAL_CIRCLE      float64\n",
      " 94   DEF_60_CNT_SOCIAL_CIRCLE      float64\n",
      " 95   DAYS_LAST_PHONE_CHANGE        float64\n",
      " 96   FLAG_DOCUMENT_2               int64  \n",
      " 97   FLAG_DOCUMENT_3               int64  \n",
      " 98   FLAG_DOCUMENT_4               int64  \n",
      " 99   FLAG_DOCUMENT_5               int64  \n",
      " 100  FLAG_DOCUMENT_6               int64  \n",
      " 101  FLAG_DOCUMENT_7               int64  \n",
      " 102  FLAG_DOCUMENT_8               int64  \n",
      " 103  FLAG_DOCUMENT_9               int64  \n",
      " 104  FLAG_DOCUMENT_10              int64  \n",
      " 105  FLAG_DOCUMENT_11              int64  \n",
      " 106  FLAG_DOCUMENT_12              int64  \n",
      " 107  FLAG_DOCUMENT_13              int64  \n",
      " 108  FLAG_DOCUMENT_14              int64  \n",
      " 109  FLAG_DOCUMENT_15              int64  \n",
      " 110  FLAG_DOCUMENT_16              int64  \n",
      " 111  FLAG_DOCUMENT_17              int64  \n",
      " 112  FLAG_DOCUMENT_18              int64  \n",
      " 113  FLAG_DOCUMENT_19              int64  \n",
      " 114  FLAG_DOCUMENT_20              int64  \n",
      " 115  FLAG_DOCUMENT_21              int64  \n",
      " 116  AMT_REQ_CREDIT_BUREAU_HOUR    float64\n",
      " 117  AMT_REQ_CREDIT_BUREAU_DAY     float64\n",
      " 118  AMT_REQ_CREDIT_BUREAU_WEEK    float64\n",
      " 119  AMT_REQ_CREDIT_BUREAU_MON     float64\n",
      " 120  AMT_REQ_CREDIT_BUREAU_QRT     float64\n",
      " 121  AMT_REQ_CREDIT_BUREAU_YEAR    float64\n",
      "dtypes: float64(65), int64(41), object(16)\n",
      "memory usage: 286.2+ MB\n"
     ]
    }
   ],
   "source": [
    "df.info(verbose=True)"
   ]
  },
  {
   "cell_type": "code",
   "execution_count": 110,
   "id": "d9e27734",
   "metadata": {},
   "outputs": [
    {
     "data": {
      "text/plain": [
       "COMMONAREA_MEDI                 214865\n",
       "COMMONAREA_AVG                  214865\n",
       "COMMONAREA_MODE                 214865\n",
       "NONLIVINGAPARTMENTS_MODE        213514\n",
       "NONLIVINGAPARTMENTS_AVG         213514\n",
       "NONLIVINGAPARTMENTS_MEDI        213514\n",
       "FONDKAPREMONT_MODE              210295\n",
       "LIVINGAPARTMENTS_MODE           210199\n",
       "LIVINGAPARTMENTS_AVG            210199\n",
       "LIVINGAPARTMENTS_MEDI           210199\n",
       "FLOORSMIN_AVG                   208642\n",
       "FLOORSMIN_MODE                  208642\n",
       "FLOORSMIN_MEDI                  208642\n",
       "YEARS_BUILD_MEDI                204488\n",
       "YEARS_BUILD_MODE                204488\n",
       "YEARS_BUILD_AVG                 204488\n",
       "OWN_CAR_AGE                     202929\n",
       "LANDAREA_MEDI                   182590\n",
       "LANDAREA_MODE                   182590\n",
       "LANDAREA_AVG                    182590\n",
       "BASEMENTAREA_MEDI               179943\n",
       "BASEMENTAREA_AVG                179943\n",
       "BASEMENTAREA_MODE               179943\n",
       "EXT_SOURCE_1                    173378\n",
       "NONLIVINGAREA_MODE              169682\n",
       "NONLIVINGAREA_AVG               169682\n",
       "NONLIVINGAREA_MEDI              169682\n",
       "ELEVATORS_MEDI                  163891\n",
       "ELEVATORS_AVG                   163891\n",
       "ELEVATORS_MODE                  163891\n",
       "WALLSMATERIAL_MODE              156341\n",
       "APARTMENTS_MEDI                 156061\n",
       "APARTMENTS_AVG                  156061\n",
       "APARTMENTS_MODE                 156061\n",
       "ENTRANCES_MEDI                  154828\n",
       "ENTRANCES_AVG                   154828\n",
       "ENTRANCES_MODE                  154828\n",
       "LIVINGAREA_AVG                  154350\n",
       "LIVINGAREA_MODE                 154350\n",
       "LIVINGAREA_MEDI                 154350\n",
       "HOUSETYPE_MODE                  154297\n",
       "FLOORSMAX_MODE                  153020\n",
       "FLOORSMAX_MEDI                  153020\n",
       "FLOORSMAX_AVG                   153020\n",
       "YEARS_BEGINEXPLUATATION_MODE    150007\n",
       "YEARS_BEGINEXPLUATATION_MEDI    150007\n",
       "YEARS_BEGINEXPLUATATION_AVG     150007\n",
       "TOTALAREA_MODE                  148431\n",
       "EMERGENCYSTATE_MODE             145755\n",
       "OCCUPATION_TYPE                  96391\n",
       "EXT_SOURCE_3                     60965\n",
       "AMT_REQ_CREDIT_BUREAU_HOUR       41519\n",
       "AMT_REQ_CREDIT_BUREAU_DAY        41519\n",
       "AMT_REQ_CREDIT_BUREAU_WEEK       41519\n",
       "AMT_REQ_CREDIT_BUREAU_MON        41519\n",
       "AMT_REQ_CREDIT_BUREAU_QRT        41519\n",
       "AMT_REQ_CREDIT_BUREAU_YEAR       41519\n",
       "NAME_TYPE_SUITE                   1292\n",
       "OBS_30_CNT_SOCIAL_CIRCLE          1021\n",
       "DEF_30_CNT_SOCIAL_CIRCLE          1021\n",
       "dtype: int64"
      ]
     },
     "execution_count": 110,
     "metadata": {},
     "output_type": "execute_result"
    }
   ],
   "source": [
    "df.isnull().sum().sort_values(ascending=False).head(60)"
   ]
  },
  {
   "cell_type": "markdown",
   "id": "921c5ada",
   "metadata": {},
   "source": [
    "#### >>AS THERE ARE NULL VALUES IN COLUMNS SO WE WILL TRY TO ANALYZE THE COLUMNS HAVING NULL VALUES MORE THAN 35% AND WILL DROP THOSE COLUMNS"
   ]
  },
  {
   "cell_type": "code",
   "execution_count": 111,
   "id": "fe353101",
   "metadata": {},
   "outputs": [
    {
     "data": {
      "text/plain": [
       "107628.84999999999"
      ]
     },
     "execution_count": 111,
     "metadata": {},
     "output_type": "execute_result"
    }
   ],
   "source": [
    "# x is variable assigned for getting half value of length of df\n",
    "\n",
    "x=len(df)*0.35\n",
    "x"
   ]
  },
  {
   "cell_type": "code",
   "execution_count": 112,
   "id": "a7e84fb4",
   "metadata": {},
   "outputs": [
    {
     "data": {
      "text/plain": [
       "Index(['SK_ID_CURR', 'TARGET', 'NAME_CONTRACT_TYPE', 'CODE_GENDER',\n",
       "       'FLAG_OWN_CAR', 'FLAG_OWN_REALTY', 'CNT_CHILDREN', 'AMT_INCOME_TOTAL',\n",
       "       'AMT_CREDIT', 'AMT_ANNUITY', 'AMT_GOODS_PRICE', 'NAME_TYPE_SUITE',\n",
       "       'NAME_INCOME_TYPE', 'NAME_EDUCATION_TYPE', 'NAME_FAMILY_STATUS',\n",
       "       'NAME_HOUSING_TYPE', 'REGION_POPULATION_RELATIVE', 'DAYS_BIRTH',\n",
       "       'DAYS_EMPLOYED', 'DAYS_REGISTRATION', 'DAYS_ID_PUBLISH', 'FLAG_MOBIL',\n",
       "       'FLAG_EMP_PHONE', 'FLAG_WORK_PHONE', 'FLAG_CONT_MOBILE', 'FLAG_PHONE',\n",
       "       'FLAG_EMAIL', 'OCCUPATION_TYPE', 'CNT_FAM_MEMBERS',\n",
       "       'REGION_RATING_CLIENT', 'REGION_RATING_CLIENT_W_CITY',\n",
       "       'WEEKDAY_APPR_PROCESS_START', 'HOUR_APPR_PROCESS_START',\n",
       "       'REG_REGION_NOT_LIVE_REGION', 'REG_REGION_NOT_WORK_REGION',\n",
       "       'LIVE_REGION_NOT_WORK_REGION', 'REG_CITY_NOT_LIVE_CITY',\n",
       "       'REG_CITY_NOT_WORK_CITY', 'LIVE_CITY_NOT_WORK_CITY',\n",
       "       'ORGANIZATION_TYPE', 'EXT_SOURCE_2', 'EXT_SOURCE_3',\n",
       "       'OBS_30_CNT_SOCIAL_CIRCLE', 'DEF_30_CNT_SOCIAL_CIRCLE',\n",
       "       'OBS_60_CNT_SOCIAL_CIRCLE', 'DEF_60_CNT_SOCIAL_CIRCLE',\n",
       "       'DAYS_LAST_PHONE_CHANGE', 'FLAG_DOCUMENT_2', 'FLAG_DOCUMENT_3',\n",
       "       'FLAG_DOCUMENT_4', 'FLAG_DOCUMENT_5', 'FLAG_DOCUMENT_6',\n",
       "       'FLAG_DOCUMENT_7', 'FLAG_DOCUMENT_8', 'FLAG_DOCUMENT_9',\n",
       "       'FLAG_DOCUMENT_10', 'FLAG_DOCUMENT_11', 'FLAG_DOCUMENT_12',\n",
       "       'FLAG_DOCUMENT_13', 'FLAG_DOCUMENT_14', 'FLAG_DOCUMENT_15',\n",
       "       'FLAG_DOCUMENT_16', 'FLAG_DOCUMENT_17', 'FLAG_DOCUMENT_18',\n",
       "       'FLAG_DOCUMENT_19', 'FLAG_DOCUMENT_20', 'FLAG_DOCUMENT_21',\n",
       "       'AMT_REQ_CREDIT_BUREAU_HOUR', 'AMT_REQ_CREDIT_BUREAU_DAY',\n",
       "       'AMT_REQ_CREDIT_BUREAU_WEEK', 'AMT_REQ_CREDIT_BUREAU_MON',\n",
       "       'AMT_REQ_CREDIT_BUREAU_QRT', 'AMT_REQ_CREDIT_BUREAU_YEAR'],\n",
       "      dtype='object')"
      ]
     },
     "execution_count": 112,
     "metadata": {},
     "output_type": "execute_result"
    }
   ],
   "source": [
    "df.columns[df.isnull().sum()<x]"
   ]
  },
  {
   "cell_type": "code",
   "execution_count": 113,
   "id": "33c1c0f8",
   "metadata": {},
   "outputs": [
    {
     "data": {
      "text/plain": [
       "73"
      ]
     },
     "execution_count": 113,
     "metadata": {},
     "output_type": "execute_result"
    }
   ],
   "source": [
    "len(df.columns[df.isnull().sum()<x])"
   ]
  },
  {
   "cell_type": "code",
   "execution_count": 114,
   "id": "efbebd22",
   "metadata": {},
   "outputs": [],
   "source": [
    "#Assigning these 73 column in new dataframe in which the columns are having null values less than 50% \n",
    "\n",
    "df=df[df.columns[df.isnull().sum()<x]]"
   ]
  },
  {
   "cell_type": "code",
   "execution_count": 115,
   "id": "839ba398",
   "metadata": {},
   "outputs": [
    {
     "data": {
      "text/plain": [
       "(307511, 73)"
      ]
     },
     "execution_count": 115,
     "metadata": {},
     "output_type": "execute_result"
    }
   ],
   "source": [
    "df.shape"
   ]
  },
  {
   "cell_type": "code",
   "execution_count": 116,
   "id": "2f6747ea",
   "metadata": {},
   "outputs": [
    {
     "data": {
      "text/html": [
       "<div>\n",
       "<style scoped>\n",
       "    .dataframe tbody tr th:only-of-type {\n",
       "        vertical-align: middle;\n",
       "    }\n",
       "\n",
       "    .dataframe tbody tr th {\n",
       "        vertical-align: top;\n",
       "    }\n",
       "\n",
       "    .dataframe thead th {\n",
       "        text-align: right;\n",
       "    }\n",
       "</style>\n",
       "<table border=\"1\" class=\"dataframe\">\n",
       "  <thead>\n",
       "    <tr style=\"text-align: right;\">\n",
       "      <th></th>\n",
       "      <th>SK_ID_CURR</th>\n",
       "      <th>TARGET</th>\n",
       "      <th>NAME_CONTRACT_TYPE</th>\n",
       "      <th>CODE_GENDER</th>\n",
       "      <th>FLAG_OWN_CAR</th>\n",
       "      <th>FLAG_OWN_REALTY</th>\n",
       "      <th>CNT_CHILDREN</th>\n",
       "      <th>AMT_INCOME_TOTAL</th>\n",
       "      <th>AMT_CREDIT</th>\n",
       "      <th>AMT_ANNUITY</th>\n",
       "      <th>...</th>\n",
       "      <th>FLAG_DOCUMENT_18</th>\n",
       "      <th>FLAG_DOCUMENT_19</th>\n",
       "      <th>FLAG_DOCUMENT_20</th>\n",
       "      <th>FLAG_DOCUMENT_21</th>\n",
       "      <th>AMT_REQ_CREDIT_BUREAU_HOUR</th>\n",
       "      <th>AMT_REQ_CREDIT_BUREAU_DAY</th>\n",
       "      <th>AMT_REQ_CREDIT_BUREAU_WEEK</th>\n",
       "      <th>AMT_REQ_CREDIT_BUREAU_MON</th>\n",
       "      <th>AMT_REQ_CREDIT_BUREAU_QRT</th>\n",
       "      <th>AMT_REQ_CREDIT_BUREAU_YEAR</th>\n",
       "    </tr>\n",
       "  </thead>\n",
       "  <tbody>\n",
       "    <tr>\n",
       "      <th>0</th>\n",
       "      <td>100002</td>\n",
       "      <td>1</td>\n",
       "      <td>Cash loans</td>\n",
       "      <td>M</td>\n",
       "      <td>N</td>\n",
       "      <td>Y</td>\n",
       "      <td>0</td>\n",
       "      <td>202500.0</td>\n",
       "      <td>406597.5</td>\n",
       "      <td>24700.5</td>\n",
       "      <td>...</td>\n",
       "      <td>0</td>\n",
       "      <td>0</td>\n",
       "      <td>0</td>\n",
       "      <td>0</td>\n",
       "      <td>0.0</td>\n",
       "      <td>0.0</td>\n",
       "      <td>0.0</td>\n",
       "      <td>0.0</td>\n",
       "      <td>0.0</td>\n",
       "      <td>1.0</td>\n",
       "    </tr>\n",
       "    <tr>\n",
       "      <th>1</th>\n",
       "      <td>100003</td>\n",
       "      <td>0</td>\n",
       "      <td>Cash loans</td>\n",
       "      <td>F</td>\n",
       "      <td>N</td>\n",
       "      <td>N</td>\n",
       "      <td>0</td>\n",
       "      <td>270000.0</td>\n",
       "      <td>1293502.5</td>\n",
       "      <td>35698.5</td>\n",
       "      <td>...</td>\n",
       "      <td>0</td>\n",
       "      <td>0</td>\n",
       "      <td>0</td>\n",
       "      <td>0</td>\n",
       "      <td>0.0</td>\n",
       "      <td>0.0</td>\n",
       "      <td>0.0</td>\n",
       "      <td>0.0</td>\n",
       "      <td>0.0</td>\n",
       "      <td>0.0</td>\n",
       "    </tr>\n",
       "    <tr>\n",
       "      <th>2</th>\n",
       "      <td>100004</td>\n",
       "      <td>0</td>\n",
       "      <td>Revolving loans</td>\n",
       "      <td>M</td>\n",
       "      <td>Y</td>\n",
       "      <td>Y</td>\n",
       "      <td>0</td>\n",
       "      <td>67500.0</td>\n",
       "      <td>135000.0</td>\n",
       "      <td>6750.0</td>\n",
       "      <td>...</td>\n",
       "      <td>0</td>\n",
       "      <td>0</td>\n",
       "      <td>0</td>\n",
       "      <td>0</td>\n",
       "      <td>0.0</td>\n",
       "      <td>0.0</td>\n",
       "      <td>0.0</td>\n",
       "      <td>0.0</td>\n",
       "      <td>0.0</td>\n",
       "      <td>0.0</td>\n",
       "    </tr>\n",
       "    <tr>\n",
       "      <th>3</th>\n",
       "      <td>100006</td>\n",
       "      <td>0</td>\n",
       "      <td>Cash loans</td>\n",
       "      <td>F</td>\n",
       "      <td>N</td>\n",
       "      <td>Y</td>\n",
       "      <td>0</td>\n",
       "      <td>135000.0</td>\n",
       "      <td>312682.5</td>\n",
       "      <td>29686.5</td>\n",
       "      <td>...</td>\n",
       "      <td>0</td>\n",
       "      <td>0</td>\n",
       "      <td>0</td>\n",
       "      <td>0</td>\n",
       "      <td>NaN</td>\n",
       "      <td>NaN</td>\n",
       "      <td>NaN</td>\n",
       "      <td>NaN</td>\n",
       "      <td>NaN</td>\n",
       "      <td>NaN</td>\n",
       "    </tr>\n",
       "    <tr>\n",
       "      <th>4</th>\n",
       "      <td>100007</td>\n",
       "      <td>0</td>\n",
       "      <td>Cash loans</td>\n",
       "      <td>M</td>\n",
       "      <td>N</td>\n",
       "      <td>Y</td>\n",
       "      <td>0</td>\n",
       "      <td>121500.0</td>\n",
       "      <td>513000.0</td>\n",
       "      <td>21865.5</td>\n",
       "      <td>...</td>\n",
       "      <td>0</td>\n",
       "      <td>0</td>\n",
       "      <td>0</td>\n",
       "      <td>0</td>\n",
       "      <td>0.0</td>\n",
       "      <td>0.0</td>\n",
       "      <td>0.0</td>\n",
       "      <td>0.0</td>\n",
       "      <td>0.0</td>\n",
       "      <td>0.0</td>\n",
       "    </tr>\n",
       "  </tbody>\n",
       "</table>\n",
       "<p>5 rows × 73 columns</p>\n",
       "</div>"
      ],
      "text/plain": [
       "   SK_ID_CURR  TARGET NAME_CONTRACT_TYPE CODE_GENDER FLAG_OWN_CAR  \\\n",
       "0      100002       1         Cash loans           M            N   \n",
       "1      100003       0         Cash loans           F            N   \n",
       "2      100004       0    Revolving loans           M            Y   \n",
       "3      100006       0         Cash loans           F            N   \n",
       "4      100007       0         Cash loans           M            N   \n",
       "\n",
       "  FLAG_OWN_REALTY  CNT_CHILDREN  AMT_INCOME_TOTAL  AMT_CREDIT  AMT_ANNUITY  \\\n",
       "0               Y             0          202500.0    406597.5      24700.5   \n",
       "1               N             0          270000.0   1293502.5      35698.5   \n",
       "2               Y             0           67500.0    135000.0       6750.0   \n",
       "3               Y             0          135000.0    312682.5      29686.5   \n",
       "4               Y             0          121500.0    513000.0      21865.5   \n",
       "\n",
       "   ...  FLAG_DOCUMENT_18 FLAG_DOCUMENT_19 FLAG_DOCUMENT_20 FLAG_DOCUMENT_21  \\\n",
       "0  ...                 0                0                0                0   \n",
       "1  ...                 0                0                0                0   \n",
       "2  ...                 0                0                0                0   \n",
       "3  ...                 0                0                0                0   \n",
       "4  ...                 0                0                0                0   \n",
       "\n",
       "  AMT_REQ_CREDIT_BUREAU_HOUR AMT_REQ_CREDIT_BUREAU_DAY  \\\n",
       "0                        0.0                       0.0   \n",
       "1                        0.0                       0.0   \n",
       "2                        0.0                       0.0   \n",
       "3                        NaN                       NaN   \n",
       "4                        0.0                       0.0   \n",
       "\n",
       "   AMT_REQ_CREDIT_BUREAU_WEEK  AMT_REQ_CREDIT_BUREAU_MON  \\\n",
       "0                         0.0                        0.0   \n",
       "1                         0.0                        0.0   \n",
       "2                         0.0                        0.0   \n",
       "3                         NaN                        NaN   \n",
       "4                         0.0                        0.0   \n",
       "\n",
       "   AMT_REQ_CREDIT_BUREAU_QRT  AMT_REQ_CREDIT_BUREAU_YEAR  \n",
       "0                        0.0                         1.0  \n",
       "1                        0.0                         0.0  \n",
       "2                        0.0                         0.0  \n",
       "3                        NaN                         NaN  \n",
       "4                        0.0                         0.0  \n",
       "\n",
       "[5 rows x 73 columns]"
      ]
     },
     "execution_count": 116,
     "metadata": {},
     "output_type": "execute_result"
    }
   ],
   "source": [
    "df.head()"
   ]
  },
  {
   "cell_type": "code",
   "execution_count": 117,
   "id": "49651638",
   "metadata": {},
   "outputs": [
    {
     "data": {
      "text/plain": [
       "OCCUPATION_TYPE               96391\n",
       "EXT_SOURCE_3                  60965\n",
       "AMT_REQ_CREDIT_BUREAU_YEAR    41519\n",
       "AMT_REQ_CREDIT_BUREAU_QRT     41519\n",
       "AMT_REQ_CREDIT_BUREAU_MON     41519\n",
       "AMT_REQ_CREDIT_BUREAU_WEEK    41519\n",
       "AMT_REQ_CREDIT_BUREAU_DAY     41519\n",
       "AMT_REQ_CREDIT_BUREAU_HOUR    41519\n",
       "NAME_TYPE_SUITE                1292\n",
       "OBS_30_CNT_SOCIAL_CIRCLE       1021\n",
       "DEF_30_CNT_SOCIAL_CIRCLE       1021\n",
       "OBS_60_CNT_SOCIAL_CIRCLE       1021\n",
       "DEF_60_CNT_SOCIAL_CIRCLE       1021\n",
       "EXT_SOURCE_2                    660\n",
       "AMT_GOODS_PRICE                 278\n",
       "AMT_ANNUITY                      12\n",
       "CNT_FAM_MEMBERS                   2\n",
       "DAYS_LAST_PHONE_CHANGE            1\n",
       "FLAG_DOCUMENT_17                  0\n",
       "FLAG_DOCUMENT_18                  0\n",
       "FLAG_DOCUMENT_21                  0\n",
       "FLAG_DOCUMENT_20                  0\n",
       "FLAG_DOCUMENT_19                  0\n",
       "FLAG_DOCUMENT_2                   0\n",
       "FLAG_DOCUMENT_3                   0\n",
       "FLAG_DOCUMENT_4                   0\n",
       "FLAG_DOCUMENT_5                   0\n",
       "FLAG_DOCUMENT_16                  0\n",
       "FLAG_DOCUMENT_6                   0\n",
       "FLAG_DOCUMENT_7                   0\n",
       "FLAG_DOCUMENT_8                   0\n",
       "FLAG_DOCUMENT_9                   0\n",
       "FLAG_DOCUMENT_10                  0\n",
       "FLAG_DOCUMENT_11                  0\n",
       "ORGANIZATION_TYPE                 0\n",
       "FLAG_DOCUMENT_13                  0\n",
       "FLAG_DOCUMENT_14                  0\n",
       "FLAG_DOCUMENT_15                  0\n",
       "FLAG_DOCUMENT_12                  0\n",
       "SK_ID_CURR                        0\n",
       "LIVE_CITY_NOT_WORK_CITY           0\n",
       "DAYS_REGISTRATION                 0\n",
       "NAME_CONTRACT_TYPE                0\n",
       "CODE_GENDER                       0\n",
       "FLAG_OWN_CAR                      0\n",
       "FLAG_OWN_REALTY                   0\n",
       "CNT_CHILDREN                      0\n",
       "AMT_INCOME_TOTAL                  0\n",
       "AMT_CREDIT                        0\n",
       "NAME_INCOME_TYPE                  0\n",
       "dtype: int64"
      ]
     },
     "execution_count": 117,
     "metadata": {},
     "output_type": "execute_result"
    }
   ],
   "source": [
    "df.isnull().sum().sort_values(ascending=False).head(50)"
   ]
  },
  {
   "cell_type": "code",
   "execution_count": 118,
   "id": "e79cc026",
   "metadata": {},
   "outputs": [
    {
     "data": {
      "text/plain": [
       "Laborers                 55186\n",
       "Sales staff              32102\n",
       "Core staff               27570\n",
       "Managers                 21371\n",
       "Drivers                  18603\n",
       "High skill tech staff    11380\n",
       "Accountants               9813\n",
       "Medicine staff            8537\n",
       "Security staff            6721\n",
       "Cooking staff             5946\n",
       "Cleaning staff            4653\n",
       "Private service staff     2652\n",
       "Low-skill Laborers        2093\n",
       "Waiters/barmen staff      1348\n",
       "Secretaries               1305\n",
       "Realty agents              751\n",
       "HR staff                   563\n",
       "IT staff                   526\n",
       "Name: OCCUPATION_TYPE, dtype: int64"
      ]
     },
     "execution_count": 118,
     "metadata": {},
     "output_type": "execute_result"
    }
   ],
   "source": [
    "df.OCCUPATION_TYPE.value_counts()"
   ]
  },
  {
   "cell_type": "markdown",
   "id": "2979ec6d",
   "metadata": {},
   "source": [
    "#### >>WE WILL FILL THE NULL VALUES WITH MODE OF \"OCCUPATION_TYPE\" WHICH IS \"Laborers\""
   ]
  },
  {
   "cell_type": "code",
   "execution_count": 119,
   "id": "7035f4df",
   "metadata": {},
   "outputs": [
    {
     "data": {
      "text/plain": [
       "'Laborers'"
      ]
     },
     "execution_count": 119,
     "metadata": {},
     "output_type": "execute_result"
    }
   ],
   "source": [
    "df.OCCUPATION_TYPE.mode()[0]"
   ]
  },
  {
   "cell_type": "code",
   "execution_count": 120,
   "id": "16e6dc62",
   "metadata": {},
   "outputs": [],
   "source": [
    "df[\"OCCUPATION_TYPE\"].fillna(df[\"OCCUPATION_TYPE\"].mode()[0],inplace=True)"
   ]
  },
  {
   "cell_type": "code",
   "execution_count": 121,
   "id": "596f0fdd",
   "metadata": {},
   "outputs": [
    {
     "data": {
      "text/plain": [
       "0"
      ]
     },
     "execution_count": 121,
     "metadata": {},
     "output_type": "execute_result"
    }
   ],
   "source": [
    "df.OCCUPATION_TYPE.isnull().sum()"
   ]
  },
  {
   "cell_type": "markdown",
   "id": "045feebf",
   "metadata": {},
   "source": [
    "#### >>AS WE CAN SEE AMT_REQ_CREDIT_BUREAU_(YEAR,QRT,MON,WEEK,DAY) ARE THE NUMBER OF ENQUIRIES TO CREDIT BUREAU ABOUT THE CLIENT AND ALSO WE CAN SEE THE MODE OF THESE VALUES ARE \"0.0\" SO WE WILL BE REPLACING NULL VALUES WITH THE MODE."
   ]
  },
  {
   "cell_type": "code",
   "execution_count": 122,
   "id": "16b1754f",
   "metadata": {},
   "outputs": [
    {
     "data": {
      "text/plain": [
       "0.0"
      ]
     },
     "execution_count": 122,
     "metadata": {},
     "output_type": "execute_result"
    }
   ],
   "source": [
    "df.AMT_REQ_CREDIT_BUREAU_YEAR.mode()[0]"
   ]
  },
  {
   "cell_type": "code",
   "execution_count": 123,
   "id": "b0947e38",
   "metadata": {},
   "outputs": [
    {
     "data": {
      "text/plain": [
       "0.0"
      ]
     },
     "execution_count": 123,
     "metadata": {},
     "output_type": "execute_result"
    }
   ],
   "source": [
    "df.AMT_REQ_CREDIT_BUREAU_QRT.mode()[0]"
   ]
  },
  {
   "cell_type": "code",
   "execution_count": 124,
   "id": "7341a90c",
   "metadata": {},
   "outputs": [
    {
     "data": {
      "text/plain": [
       "0.0"
      ]
     },
     "execution_count": 124,
     "metadata": {},
     "output_type": "execute_result"
    }
   ],
   "source": [
    "df.AMT_REQ_CREDIT_BUREAU_MON.mode()[0]"
   ]
  },
  {
   "cell_type": "code",
   "execution_count": 125,
   "id": "92503957",
   "metadata": {},
   "outputs": [
    {
     "data": {
      "text/plain": [
       "0.0"
      ]
     },
     "execution_count": 125,
     "metadata": {},
     "output_type": "execute_result"
    }
   ],
   "source": [
    "df.AMT_REQ_CREDIT_BUREAU_WEEK.mode()[0]"
   ]
  },
  {
   "cell_type": "code",
   "execution_count": 126,
   "id": "0fd77917",
   "metadata": {},
   "outputs": [
    {
     "data": {
      "text/plain": [
       "0.0"
      ]
     },
     "execution_count": 126,
     "metadata": {},
     "output_type": "execute_result"
    }
   ],
   "source": [
    "df.AMT_REQ_CREDIT_BUREAU_DAY.mode()[0]"
   ]
  },
  {
   "cell_type": "code",
   "execution_count": 127,
   "id": "8979413b",
   "metadata": {},
   "outputs": [
    {
     "data": {
      "text/plain": [
       "0.0"
      ]
     },
     "execution_count": 127,
     "metadata": {},
     "output_type": "execute_result"
    }
   ],
   "source": [
    "df.AMT_REQ_CREDIT_BUREAU_HOUR.mode()[0]"
   ]
  },
  {
   "cell_type": "code",
   "execution_count": 128,
   "id": "0910e695",
   "metadata": {},
   "outputs": [],
   "source": [
    "df.AMT_REQ_CREDIT_BUREAU_YEAR.fillna(df.AMT_REQ_CREDIT_BUREAU_YEAR.mode()[0],inplace=True)\n",
    "df.AMT_REQ_CREDIT_BUREAU_QRT.fillna(df.AMT_REQ_CREDIT_BUREAU_QRT.mode()[0],inplace=True)\n",
    "df.AMT_REQ_CREDIT_BUREAU_MON.fillna(df.AMT_REQ_CREDIT_BUREAU_MON.mode()[0],inplace=True)\n",
    "df.AMT_REQ_CREDIT_BUREAU_WEEK.fillna(df.AMT_REQ_CREDIT_BUREAU_WEEK.mode()[0],inplace=True)\n",
    "df.AMT_REQ_CREDIT_BUREAU_DAY.fillna(df.AMT_REQ_CREDIT_BUREAU_DAY.mode()[0],inplace=True)\n",
    "df.AMT_REQ_CREDIT_BUREAU_HOUR.fillna(df.AMT_REQ_CREDIT_BUREAU_HOUR.mode()[0],inplace=True)"
   ]
  },
  {
   "cell_type": "code",
   "execution_count": 129,
   "id": "11226c8a",
   "metadata": {},
   "outputs": [
    {
     "data": {
      "text/plain": [
       "EXT_SOURCE_3                60965\n",
       "NAME_TYPE_SUITE              1292\n",
       "OBS_30_CNT_SOCIAL_CIRCLE     1021\n",
       "DEF_30_CNT_SOCIAL_CIRCLE     1021\n",
       "OBS_60_CNT_SOCIAL_CIRCLE     1021\n",
       "DEF_60_CNT_SOCIAL_CIRCLE     1021\n",
       "EXT_SOURCE_2                  660\n",
       "AMT_GOODS_PRICE               278\n",
       "AMT_ANNUITY                    12\n",
       "CNT_FAM_MEMBERS                 2\n",
       "DAYS_LAST_PHONE_CHANGE          1\n",
       "FLAG_DOCUMENT_2                 0\n",
       "FLAG_DOCUMENT_10                0\n",
       "FLAG_DOCUMENT_3                 0\n",
       "FLAG_DOCUMENT_4                 0\n",
       "dtype: int64"
      ]
     },
     "execution_count": 129,
     "metadata": {},
     "output_type": "execute_result"
    }
   ],
   "source": [
    "df.isnull().sum().sort_values(ascending=False).head(15)"
   ]
  },
  {
   "cell_type": "code",
   "execution_count": 130,
   "id": "66a012ab",
   "metadata": {},
   "outputs": [
    {
     "data": {
      "text/plain": [
       "450000.0"
      ]
     },
     "execution_count": 130,
     "metadata": {},
     "output_type": "execute_result"
    }
   ],
   "source": [
    "df.AMT_GOODS_PRICE.median()"
   ]
  },
  {
   "cell_type": "markdown",
   "id": "25be800a",
   "metadata": {},
   "source": [
    "#### >>WE WIIL FILL THE NULL VALUES OF \"AMT_GOODS_PRICE\" WITH MEDIAN"
   ]
  },
  {
   "cell_type": "code",
   "execution_count": 131,
   "id": "e57af629",
   "metadata": {},
   "outputs": [],
   "source": [
    "df.AMT_GOODS_PRICE.fillna(df.AMT_GOODS_PRICE.median(),inplace=True)"
   ]
  },
  {
   "cell_type": "code",
   "execution_count": 132,
   "id": "ff7908ae",
   "metadata": {},
   "outputs": [
    {
     "data": {
      "text/plain": [
       "0"
      ]
     },
     "execution_count": 132,
     "metadata": {},
     "output_type": "execute_result"
    }
   ],
   "source": [
    "df.AMT_GOODS_PRICE.isnull().sum()"
   ]
  },
  {
   "cell_type": "code",
   "execution_count": 133,
   "id": "7bbd6411",
   "metadata": {},
   "outputs": [
    {
     "data": {
      "text/plain": [
       "24903.0"
      ]
     },
     "execution_count": 133,
     "metadata": {},
     "output_type": "execute_result"
    }
   ],
   "source": [
    "df.AMT_ANNUITY.median()"
   ]
  },
  {
   "cell_type": "markdown",
   "id": "fd25785f",
   "metadata": {},
   "source": [
    "#### >>WE WILL FILL THE NULL VALUES OF \"AMT_ANNUITY\" WITH MEDIAN"
   ]
  },
  {
   "cell_type": "code",
   "execution_count": 134,
   "id": "a1dfdff9",
   "metadata": {},
   "outputs": [],
   "source": [
    "df.AMT_ANNUITY.fillna(df.AMT_ANNUITY.median(),inplace=True)"
   ]
  },
  {
   "cell_type": "code",
   "execution_count": 135,
   "id": "2573c947",
   "metadata": {},
   "outputs": [
    {
     "data": {
      "text/plain": [
       "0"
      ]
     },
     "execution_count": 135,
     "metadata": {},
     "output_type": "execute_result"
    }
   ],
   "source": [
    "df.AMT_ANNUITY.isnull().sum()"
   ]
  },
  {
   "cell_type": "markdown",
   "id": "c5e1b542",
   "metadata": {},
   "source": [
    "#### >>NOW WE CAN USE DATA \"df\" FOR ANALYSIS AS NULL VALUES HAS BEEN REPLACED FOR THE COLUMNS WHICH CAN BE USED FOR THE SAME."
   ]
  },
  {
   "cell_type": "code",
   "execution_count": 136,
   "id": "02990e37",
   "metadata": {},
   "outputs": [
    {
     "data": {
      "text/plain": [
       "SK_ID_CURR                         0\n",
       "TARGET                             0\n",
       "NAME_CONTRACT_TYPE                 0\n",
       "CODE_GENDER                        0\n",
       "FLAG_OWN_CAR                       0\n",
       "FLAG_OWN_REALTY                    0\n",
       "CNT_CHILDREN                       0\n",
       "AMT_INCOME_TOTAL                   0\n",
       "AMT_CREDIT                         0\n",
       "AMT_ANNUITY                        0\n",
       "AMT_GOODS_PRICE                    0\n",
       "NAME_TYPE_SUITE                 1292\n",
       "NAME_INCOME_TYPE                   0\n",
       "NAME_EDUCATION_TYPE                0\n",
       "NAME_FAMILY_STATUS                 0\n",
       "NAME_HOUSING_TYPE                  0\n",
       "REGION_POPULATION_RELATIVE         0\n",
       "DAYS_BIRTH                         0\n",
       "DAYS_EMPLOYED                      0\n",
       "DAYS_REGISTRATION                  0\n",
       "DAYS_ID_PUBLISH                    0\n",
       "FLAG_MOBIL                         0\n",
       "FLAG_EMP_PHONE                     0\n",
       "FLAG_WORK_PHONE                    0\n",
       "FLAG_CONT_MOBILE                   0\n",
       "FLAG_PHONE                         0\n",
       "FLAG_EMAIL                         0\n",
       "OCCUPATION_TYPE                    0\n",
       "CNT_FAM_MEMBERS                    2\n",
       "REGION_RATING_CLIENT               0\n",
       "REGION_RATING_CLIENT_W_CITY        0\n",
       "WEEKDAY_APPR_PROCESS_START         0\n",
       "HOUR_APPR_PROCESS_START            0\n",
       "REG_REGION_NOT_LIVE_REGION         0\n",
       "REG_REGION_NOT_WORK_REGION         0\n",
       "LIVE_REGION_NOT_WORK_REGION        0\n",
       "REG_CITY_NOT_LIVE_CITY             0\n",
       "REG_CITY_NOT_WORK_CITY             0\n",
       "LIVE_CITY_NOT_WORK_CITY            0\n",
       "ORGANIZATION_TYPE                  0\n",
       "EXT_SOURCE_2                     660\n",
       "EXT_SOURCE_3                   60965\n",
       "OBS_30_CNT_SOCIAL_CIRCLE        1021\n",
       "DEF_30_CNT_SOCIAL_CIRCLE        1021\n",
       "OBS_60_CNT_SOCIAL_CIRCLE        1021\n",
       "DEF_60_CNT_SOCIAL_CIRCLE        1021\n",
       "DAYS_LAST_PHONE_CHANGE             1\n",
       "FLAG_DOCUMENT_2                    0\n",
       "FLAG_DOCUMENT_3                    0\n",
       "FLAG_DOCUMENT_4                    0\n",
       "FLAG_DOCUMENT_5                    0\n",
       "FLAG_DOCUMENT_6                    0\n",
       "FLAG_DOCUMENT_7                    0\n",
       "FLAG_DOCUMENT_8                    0\n",
       "FLAG_DOCUMENT_9                    0\n",
       "FLAG_DOCUMENT_10                   0\n",
       "FLAG_DOCUMENT_11                   0\n",
       "FLAG_DOCUMENT_12                   0\n",
       "FLAG_DOCUMENT_13                   0\n",
       "FLAG_DOCUMENT_14                   0\n",
       "dtype: int64"
      ]
     },
     "execution_count": 136,
     "metadata": {},
     "output_type": "execute_result"
    }
   ],
   "source": [
    "df.isnull().sum().head(60)"
   ]
  },
  {
   "cell_type": "code",
   "execution_count": 137,
   "id": "1fbe4b30",
   "metadata": {},
   "outputs": [
    {
     "data": {
      "text/plain": [
       "0.00      45000.0\n",
       "0.20     254700.0\n",
       "0.50     513531.0\n",
       "0.75     808650.0\n",
       "1.00    4050000.0\n",
       "Name: AMT_CREDIT, dtype: float64"
      ]
     },
     "execution_count": 137,
     "metadata": {},
     "output_type": "execute_result"
    }
   ],
   "source": [
    "df.AMT_CREDIT.quantile([0,0.2,0.5,0.75,1])"
   ]
  },
  {
   "cell_type": "markdown",
   "id": "fbb65721",
   "metadata": {},
   "source": [
    "### UNIVARIATE ANALYSIS, BIVARIATE AND MULTIVARIATE ANALYSIS"
   ]
  },
  {
   "cell_type": "markdown",
   "id": "5a74a4c7",
   "metadata": {},
   "source": [
    "#### >>WE CAN SEE HERE THAT \"OCCUPATION_TYPE\" OF \"LABORERS\",\"SALES STAFF\",\"\"CORE STAFF\" ARE MORE LIKELY TO APPLY FOR LOANS"
   ]
  },
  {
   "cell_type": "code",
   "execution_count": 138,
   "id": "1bac76c5",
   "metadata": {},
   "outputs": [
    {
     "data": {
      "image/png": "[encoded data removed]",
      "text/plain": [
       "<Figure size 432x288 with 1 Axes>"
      ]
     },
     "metadata": {
      "needs_background": "light"
     },
     "output_type": "display_data"
    }
   ],
   "source": [
    "df.OCCUPATION_TYPE.value_counts().plot.bar()\n",
    "plt.show()"
   ]
  },
  {
   "cell_type": "markdown",
   "id": "84117558",
   "metadata": {},
   "source": [
    "#### >>CHECKING OUTLIERS"
   ]
  },
  {
   "cell_type": "markdown",
   "id": "9c6a1b79",
   "metadata": {},
   "source": [
    "#### WE CAN SEE THERE IS OUTLIER FROM \"AMT_INCOME_TOTAL\" AS 117000000.0\n"
   ]
  },
  {
   "cell_type": "code",
   "execution_count": 139,
   "id": "fed2bfb0",
   "metadata": {},
   "outputs": [
    {
     "data": {
      "image/png": "[encoded data removed]",
      "text/plain": [
       "<Figure size 432x288 with 1 Axes>"
      ]
     },
     "metadata": {
      "needs_background": "light"
     },
     "output_type": "display_data"
    }
   ],
   "source": [
    "sns.boxplot(df[\"AMT_INCOME_TOTAL\"])\n",
    "plt.show()"
   ]
  },
  {
   "cell_type": "code",
   "execution_count": 140,
   "id": "1eb7e063",
   "metadata": {},
   "outputs": [
    {
     "data": {
      "text/plain": [
       "117000000.0"
      ]
     },
     "execution_count": 140,
     "metadata": {},
     "output_type": "execute_result"
    }
   ],
   "source": [
    "max(df[\"AMT_INCOME_TOTAL\"])"
   ]
  },
  {
   "cell_type": "code",
   "execution_count": 141,
   "id": "1dba4daf",
   "metadata": {},
   "outputs": [
    {
     "data": {
      "text/plain": [
       "12840    Laborers\n",
       "Name: OCCUPATION_TYPE, dtype: object"
      ]
     },
     "execution_count": 141,
     "metadata": {},
     "output_type": "execute_result"
    }
   ],
   "source": [
    "df[df[\"AMT_INCOME_TOTAL\"]==117000000.0].OCCUPATION_TYPE"
   ]
  },
  {
   "cell_type": "code",
   "execution_count": 142,
   "id": "b1a81862",
   "metadata": {},
   "outputs": [
    {
     "data": {
      "image/png": "[encoded data removed]",
      "text/plain": [
       "<Figure size 432x288 with 1 Axes>"
      ]
     },
     "metadata": {
      "needs_background": "light"
     },
     "output_type": "display_data"
    }
   ],
   "source": [
    "sns.boxplot(df[\"AMT_CREDIT\"])\n",
    "plt.show()"
   ]
  },
  {
   "cell_type": "code",
   "execution_count": 143,
   "id": "f5542cc0",
   "metadata": {},
   "outputs": [
    {
     "data": {
      "text/plain": [
       "count    3.075110e+05\n",
       "mean     5.990260e+05\n",
       "std      4.024908e+05\n",
       "min      4.500000e+04\n",
       "25%      2.700000e+05\n",
       "50%      5.135310e+05\n",
       "75%      8.086500e+05\n",
       "max      4.050000e+06\n",
       "Name: AMT_CREDIT, dtype: float64"
      ]
     },
     "execution_count": 143,
     "metadata": {},
     "output_type": "execute_result"
    }
   ],
   "source": [
    "df[\"AMT_CREDIT\"].describe()"
   ]
  },
  {
   "cell_type": "code",
   "execution_count": 144,
   "id": "d3e0eecc",
   "metadata": {},
   "outputs": [
    {
     "data": {
      "text/plain": [
       "0    0.919271\n",
       "1    0.080729\n",
       "Name: TARGET, dtype: float64"
      ]
     },
     "execution_count": 144,
     "metadata": {},
     "output_type": "execute_result"
    }
   ],
   "source": [
    "df.TARGET.value_counts(normalize=True)"
   ]
  },
  {
   "cell_type": "code",
   "execution_count": 145,
   "id": "3c580a75",
   "metadata": {},
   "outputs": [
    {
     "data": {
      "text/html": [
       "<div>\n",
       "<style scoped>\n",
       "    .dataframe tbody tr th:only-of-type {\n",
       "        vertical-align: middle;\n",
       "    }\n",
       "\n",
       "    .dataframe tbody tr th {\n",
       "        vertical-align: top;\n",
       "    }\n",
       "\n",
       "    .dataframe thead th {\n",
       "        text-align: right;\n",
       "    }\n",
       "</style>\n",
       "<table border=\"1\" class=\"dataframe\">\n",
       "  <thead>\n",
       "    <tr style=\"text-align: right;\">\n",
       "      <th></th>\n",
       "      <th>SK_ID_CURR</th>\n",
       "      <th>TARGET</th>\n",
       "      <th>NAME_CONTRACT_TYPE</th>\n",
       "      <th>CODE_GENDER</th>\n",
       "      <th>FLAG_OWN_CAR</th>\n",
       "      <th>FLAG_OWN_REALTY</th>\n",
       "      <th>CNT_CHILDREN</th>\n",
       "      <th>AMT_INCOME_TOTAL</th>\n",
       "      <th>AMT_CREDIT</th>\n",
       "      <th>AMT_ANNUITY</th>\n",
       "      <th>...</th>\n",
       "      <th>FLAG_DOCUMENT_18</th>\n",
       "      <th>FLAG_DOCUMENT_19</th>\n",
       "      <th>FLAG_DOCUMENT_20</th>\n",
       "      <th>FLAG_DOCUMENT_21</th>\n",
       "      <th>AMT_REQ_CREDIT_BUREAU_HOUR</th>\n",
       "      <th>AMT_REQ_CREDIT_BUREAU_DAY</th>\n",
       "      <th>AMT_REQ_CREDIT_BUREAU_WEEK</th>\n",
       "      <th>AMT_REQ_CREDIT_BUREAU_MON</th>\n",
       "      <th>AMT_REQ_CREDIT_BUREAU_QRT</th>\n",
       "      <th>AMT_REQ_CREDIT_BUREAU_YEAR</th>\n",
       "    </tr>\n",
       "  </thead>\n",
       "  <tbody>\n",
       "    <tr>\n",
       "      <th>0</th>\n",
       "      <td>100002</td>\n",
       "      <td>1</td>\n",
       "      <td>Cash loans</td>\n",
       "      <td>M</td>\n",
       "      <td>N</td>\n",
       "      <td>Y</td>\n",
       "      <td>0</td>\n",
       "      <td>202500.0</td>\n",
       "      <td>406597.5</td>\n",
       "      <td>24700.5</td>\n",
       "      <td>...</td>\n",
       "      <td>0</td>\n",
       "      <td>0</td>\n",
       "      <td>0</td>\n",
       "      <td>0</td>\n",
       "      <td>0.0</td>\n",
       "      <td>0.0</td>\n",
       "      <td>0.0</td>\n",
       "      <td>0.0</td>\n",
       "      <td>0.0</td>\n",
       "      <td>1.0</td>\n",
       "    </tr>\n",
       "    <tr>\n",
       "      <th>1</th>\n",
       "      <td>100003</td>\n",
       "      <td>0</td>\n",
       "      <td>Cash loans</td>\n",
       "      <td>F</td>\n",
       "      <td>N</td>\n",
       "      <td>N</td>\n",
       "      <td>0</td>\n",
       "      <td>270000.0</td>\n",
       "      <td>1293502.5</td>\n",
       "      <td>35698.5</td>\n",
       "      <td>...</td>\n",
       "      <td>0</td>\n",
       "      <td>0</td>\n",
       "      <td>0</td>\n",
       "      <td>0</td>\n",
       "      <td>0.0</td>\n",
       "      <td>0.0</td>\n",
       "      <td>0.0</td>\n",
       "      <td>0.0</td>\n",
       "      <td>0.0</td>\n",
       "      <td>0.0</td>\n",
       "    </tr>\n",
       "    <tr>\n",
       "      <th>2</th>\n",
       "      <td>100004</td>\n",
       "      <td>0</td>\n",
       "      <td>Revolving loans</td>\n",
       "      <td>M</td>\n",
       "      <td>Y</td>\n",
       "      <td>Y</td>\n",
       "      <td>0</td>\n",
       "      <td>67500.0</td>\n",
       "      <td>135000.0</td>\n",
       "      <td>6750.0</td>\n",
       "      <td>...</td>\n",
       "      <td>0</td>\n",
       "      <td>0</td>\n",
       "      <td>0</td>\n",
       "      <td>0</td>\n",
       "      <td>0.0</td>\n",
       "      <td>0.0</td>\n",
       "      <td>0.0</td>\n",
       "      <td>0.0</td>\n",
       "      <td>0.0</td>\n",
       "      <td>0.0</td>\n",
       "    </tr>\n",
       "    <tr>\n",
       "      <th>3</th>\n",
       "      <td>100006</td>\n",
       "      <td>0</td>\n",
       "      <td>Cash loans</td>\n",
       "      <td>F</td>\n",
       "      <td>N</td>\n",
       "      <td>Y</td>\n",
       "      <td>0</td>\n",
       "      <td>135000.0</td>\n",
       "      <td>312682.5</td>\n",
       "      <td>29686.5</td>\n",
       "      <td>...</td>\n",
       "      <td>0</td>\n",
       "      <td>0</td>\n",
       "      <td>0</td>\n",
       "      <td>0</td>\n",
       "      <td>0.0</td>\n",
       "      <td>0.0</td>\n",
       "      <td>0.0</td>\n",
       "      <td>0.0</td>\n",
       "      <td>0.0</td>\n",
       "      <td>0.0</td>\n",
       "    </tr>\n",
       "    <tr>\n",
       "      <th>4</th>\n",
       "      <td>100007</td>\n",
       "      <td>0</td>\n",
       "      <td>Cash loans</td>\n",
       "      <td>M</td>\n",
       "      <td>N</td>\n",
       "      <td>Y</td>\n",
       "      <td>0</td>\n",
       "      <td>121500.0</td>\n",
       "      <td>513000.0</td>\n",
       "      <td>21865.5</td>\n",
       "      <td>...</td>\n",
       "      <td>0</td>\n",
       "      <td>0</td>\n",
       "      <td>0</td>\n",
       "      <td>0</td>\n",
       "      <td>0.0</td>\n",
       "      <td>0.0</td>\n",
       "      <td>0.0</td>\n",
       "      <td>0.0</td>\n",
       "      <td>0.0</td>\n",
       "      <td>0.0</td>\n",
       "    </tr>\n",
       "  </tbody>\n",
       "</table>\n",
       "<p>5 rows × 73 columns</p>\n",
       "</div>"
      ],
      "text/plain": [
       "   SK_ID_CURR  TARGET NAME_CONTRACT_TYPE CODE_GENDER FLAG_OWN_CAR  \\\n",
       "0      100002       1         Cash loans           M            N   \n",
       "1      100003       0         Cash loans           F            N   \n",
       "2      100004       0    Revolving loans           M            Y   \n",
       "3      100006       0         Cash loans           F            N   \n",
       "4      100007       0         Cash loans           M            N   \n",
       "\n",
       "  FLAG_OWN_REALTY  CNT_CHILDREN  AMT_INCOME_TOTAL  AMT_CREDIT  AMT_ANNUITY  \\\n",
       "0               Y             0          202500.0    406597.5      24700.5   \n",
       "1               N             0          270000.0   1293502.5      35698.5   \n",
       "2               Y             0           67500.0    135000.0       6750.0   \n",
       "3               Y             0          135000.0    312682.5      29686.5   \n",
       "4               Y             0          121500.0    513000.0      21865.5   \n",
       "\n",
       "   ...  FLAG_DOCUMENT_18 FLAG_DOCUMENT_19 FLAG_DOCUMENT_20 FLAG_DOCUMENT_21  \\\n",
       "0  ...                 0                0                0                0   \n",
       "1  ...                 0                0                0                0   \n",
       "2  ...                 0                0                0                0   \n",
       "3  ...                 0                0                0                0   \n",
       "4  ...                 0                0                0                0   \n",
       "\n",
       "  AMT_REQ_CREDIT_BUREAU_HOUR AMT_REQ_CREDIT_BUREAU_DAY  \\\n",
       "0                        0.0                       0.0   \n",
       "1                        0.0                       0.0   \n",
       "2                        0.0                       0.0   \n",
       "3                        0.0                       0.0   \n",
       "4                        0.0                       0.0   \n",
       "\n",
       "   AMT_REQ_CREDIT_BUREAU_WEEK  AMT_REQ_CREDIT_BUREAU_MON  \\\n",
       "0                         0.0                        0.0   \n",
       "1                         0.0                        0.0   \n",
       "2                         0.0                        0.0   \n",
       "3                         0.0                        0.0   \n",
       "4                         0.0                        0.0   \n",
       "\n",
       "   AMT_REQ_CREDIT_BUREAU_QRT  AMT_REQ_CREDIT_BUREAU_YEAR  \n",
       "0                        0.0                         1.0  \n",
       "1                        0.0                         0.0  \n",
       "2                        0.0                         0.0  \n",
       "3                        0.0                         0.0  \n",
       "4                        0.0                         0.0  \n",
       "\n",
       "[5 rows x 73 columns]"
      ]
     },
     "execution_count": 145,
     "metadata": {},
     "output_type": "execute_result"
    }
   ],
   "source": [
    "df.head()"
   ]
  },
  {
   "cell_type": "markdown",
   "id": "d336479c",
   "metadata": {},
   "source": [
    "#### >>ANALYSIS WITH TARGET VARIABLE"
   ]
  },
  {
   "cell_type": "markdown",
   "id": "5430d907",
   "metadata": {},
   "source": [
    "##### >>THIS SEEMS TO BE IMBALANCE DATA "
   ]
  },
  {
   "cell_type": "code",
   "execution_count": 146,
   "id": "b6fca626",
   "metadata": {},
   "outputs": [
    {
     "data": {
      "image/png": "[encoded data removed]",
      "text/plain": [
       "<Figure size 432x288 with 1 Axes>"
      ]
     },
     "metadata": {
      "needs_background": "light"
     },
     "output_type": "display_data"
    }
   ],
   "source": [
    "df.TARGET.value_counts(normalize=True).plot.bar()\n",
    "plt.xticks(rotation=360)\n",
    "plt.show()"
   ]
  },
  {
   "cell_type": "code",
   "execution_count": 147,
   "id": "cd55b3b3",
   "metadata": {},
   "outputs": [
    {
     "data": {
      "text/html": [
       "<div>\n",
       "<style scoped>\n",
       "    .dataframe tbody tr th:only-of-type {\n",
       "        vertical-align: middle;\n",
       "    }\n",
       "\n",
       "    .dataframe tbody tr th {\n",
       "        vertical-align: top;\n",
       "    }\n",
       "\n",
       "    .dataframe thead th {\n",
       "        text-align: right;\n",
       "    }\n",
       "</style>\n",
       "<table border=\"1\" class=\"dataframe\">\n",
       "  <thead>\n",
       "    <tr style=\"text-align: right;\">\n",
       "      <th></th>\n",
       "      <th>SK_ID_CURR</th>\n",
       "      <th>TARGET</th>\n",
       "      <th>NAME_CONTRACT_TYPE</th>\n",
       "      <th>CODE_GENDER</th>\n",
       "      <th>FLAG_OWN_CAR</th>\n",
       "      <th>FLAG_OWN_REALTY</th>\n",
       "      <th>CNT_CHILDREN</th>\n",
       "      <th>AMT_INCOME_TOTAL</th>\n",
       "      <th>AMT_CREDIT</th>\n",
       "      <th>AMT_ANNUITY</th>\n",
       "      <th>...</th>\n",
       "      <th>FLAG_DOCUMENT_18</th>\n",
       "      <th>FLAG_DOCUMENT_19</th>\n",
       "      <th>FLAG_DOCUMENT_20</th>\n",
       "      <th>FLAG_DOCUMENT_21</th>\n",
       "      <th>AMT_REQ_CREDIT_BUREAU_HOUR</th>\n",
       "      <th>AMT_REQ_CREDIT_BUREAU_DAY</th>\n",
       "      <th>AMT_REQ_CREDIT_BUREAU_WEEK</th>\n",
       "      <th>AMT_REQ_CREDIT_BUREAU_MON</th>\n",
       "      <th>AMT_REQ_CREDIT_BUREAU_QRT</th>\n",
       "      <th>AMT_REQ_CREDIT_BUREAU_YEAR</th>\n",
       "    </tr>\n",
       "  </thead>\n",
       "  <tbody>\n",
       "    <tr>\n",
       "      <th>0</th>\n",
       "      <td>100002</td>\n",
       "      <td>1</td>\n",
       "      <td>Cash loans</td>\n",
       "      <td>M</td>\n",
       "      <td>N</td>\n",
       "      <td>Y</td>\n",
       "      <td>0</td>\n",
       "      <td>202500.0</td>\n",
       "      <td>406597.5</td>\n",
       "      <td>24700.5</td>\n",
       "      <td>...</td>\n",
       "      <td>0</td>\n",
       "      <td>0</td>\n",
       "      <td>0</td>\n",
       "      <td>0</td>\n",
       "      <td>0.0</td>\n",
       "      <td>0.0</td>\n",
       "      <td>0.0</td>\n",
       "      <td>0.0</td>\n",
       "      <td>0.0</td>\n",
       "      <td>1.0</td>\n",
       "    </tr>\n",
       "    <tr>\n",
       "      <th>1</th>\n",
       "      <td>100003</td>\n",
       "      <td>0</td>\n",
       "      <td>Cash loans</td>\n",
       "      <td>F</td>\n",
       "      <td>N</td>\n",
       "      <td>N</td>\n",
       "      <td>0</td>\n",
       "      <td>270000.0</td>\n",
       "      <td>1293502.5</td>\n",
       "      <td>35698.5</td>\n",
       "      <td>...</td>\n",
       "      <td>0</td>\n",
       "      <td>0</td>\n",
       "      <td>0</td>\n",
       "      <td>0</td>\n",
       "      <td>0.0</td>\n",
       "      <td>0.0</td>\n",
       "      <td>0.0</td>\n",
       "      <td>0.0</td>\n",
       "      <td>0.0</td>\n",
       "      <td>0.0</td>\n",
       "    </tr>\n",
       "    <tr>\n",
       "      <th>2</th>\n",
       "      <td>100004</td>\n",
       "      <td>0</td>\n",
       "      <td>Revolving loans</td>\n",
       "      <td>M</td>\n",
       "      <td>Y</td>\n",
       "      <td>Y</td>\n",
       "      <td>0</td>\n",
       "      <td>67500.0</td>\n",
       "      <td>135000.0</td>\n",
       "      <td>6750.0</td>\n",
       "      <td>...</td>\n",
       "      <td>0</td>\n",
       "      <td>0</td>\n",
       "      <td>0</td>\n",
       "      <td>0</td>\n",
       "      <td>0.0</td>\n",
       "      <td>0.0</td>\n",
       "      <td>0.0</td>\n",
       "      <td>0.0</td>\n",
       "      <td>0.0</td>\n",
       "      <td>0.0</td>\n",
       "    </tr>\n",
       "    <tr>\n",
       "      <th>3</th>\n",
       "      <td>100006</td>\n",
       "      <td>0</td>\n",
       "      <td>Cash loans</td>\n",
       "      <td>F</td>\n",
       "      <td>N</td>\n",
       "      <td>Y</td>\n",
       "      <td>0</td>\n",
       "      <td>135000.0</td>\n",
       "      <td>312682.5</td>\n",
       "      <td>29686.5</td>\n",
       "      <td>...</td>\n",
       "      <td>0</td>\n",
       "      <td>0</td>\n",
       "      <td>0</td>\n",
       "      <td>0</td>\n",
       "      <td>0.0</td>\n",
       "      <td>0.0</td>\n",
       "      <td>0.0</td>\n",
       "      <td>0.0</td>\n",
       "      <td>0.0</td>\n",
       "      <td>0.0</td>\n",
       "    </tr>\n",
       "    <tr>\n",
       "      <th>4</th>\n",
       "      <td>100007</td>\n",
       "      <td>0</td>\n",
       "      <td>Cash loans</td>\n",
       "      <td>M</td>\n",
       "      <td>N</td>\n",
       "      <td>Y</td>\n",
       "      <td>0</td>\n",
       "      <td>121500.0</td>\n",
       "      <td>513000.0</td>\n",
       "      <td>21865.5</td>\n",
       "      <td>...</td>\n",
       "      <td>0</td>\n",
       "      <td>0</td>\n",
       "      <td>0</td>\n",
       "      <td>0</td>\n",
       "      <td>0.0</td>\n",
       "      <td>0.0</td>\n",
       "      <td>0.0</td>\n",
       "      <td>0.0</td>\n",
       "      <td>0.0</td>\n",
       "      <td>0.0</td>\n",
       "    </tr>\n",
       "  </tbody>\n",
       "</table>\n",
       "<p>5 rows × 73 columns</p>\n",
       "</div>"
      ],
      "text/plain": [
       "   SK_ID_CURR  TARGET NAME_CONTRACT_TYPE CODE_GENDER FLAG_OWN_CAR  \\\n",
       "0      100002       1         Cash loans           M            N   \n",
       "1      100003       0         Cash loans           F            N   \n",
       "2      100004       0    Revolving loans           M            Y   \n",
       "3      100006       0         Cash loans           F            N   \n",
       "4      100007       0         Cash loans           M            N   \n",
       "\n",
       "  FLAG_OWN_REALTY  CNT_CHILDREN  AMT_INCOME_TOTAL  AMT_CREDIT  AMT_ANNUITY  \\\n",
       "0               Y             0          202500.0    406597.5      24700.5   \n",
       "1               N             0          270000.0   1293502.5      35698.5   \n",
       "2               Y             0           67500.0    135000.0       6750.0   \n",
       "3               Y             0          135000.0    312682.5      29686.5   \n",
       "4               Y             0          121500.0    513000.0      21865.5   \n",
       "\n",
       "   ...  FLAG_DOCUMENT_18 FLAG_DOCUMENT_19 FLAG_DOCUMENT_20 FLAG_DOCUMENT_21  \\\n",
       "0  ...                 0                0                0                0   \n",
       "1  ...                 0                0                0                0   \n",
       "2  ...                 0                0                0                0   \n",
       "3  ...                 0                0                0                0   \n",
       "4  ...                 0                0                0                0   \n",
       "\n",
       "  AMT_REQ_CREDIT_BUREAU_HOUR AMT_REQ_CREDIT_BUREAU_DAY  \\\n",
       "0                        0.0                       0.0   \n",
       "1                        0.0                       0.0   \n",
       "2                        0.0                       0.0   \n",
       "3                        0.0                       0.0   \n",
       "4                        0.0                       0.0   \n",
       "\n",
       "   AMT_REQ_CREDIT_BUREAU_WEEK  AMT_REQ_CREDIT_BUREAU_MON  \\\n",
       "0                         0.0                        0.0   \n",
       "1                         0.0                        0.0   \n",
       "2                         0.0                        0.0   \n",
       "3                         0.0                        0.0   \n",
       "4                         0.0                        0.0   \n",
       "\n",
       "   AMT_REQ_CREDIT_BUREAU_QRT  AMT_REQ_CREDIT_BUREAU_YEAR  \n",
       "0                        0.0                         1.0  \n",
       "1                        0.0                         0.0  \n",
       "2                        0.0                         0.0  \n",
       "3                        0.0                         0.0  \n",
       "4                        0.0                         0.0  \n",
       "\n",
       "[5 rows x 73 columns]"
      ]
     },
     "execution_count": 147,
     "metadata": {},
     "output_type": "execute_result"
    }
   ],
   "source": [
    "df.head()"
   ]
  },
  {
   "cell_type": "code",
   "execution_count": 148,
   "id": "d602af31",
   "metadata": {},
   "outputs": [],
   "source": [
    "df_target0 = df[df[\"TARGET\"]==0] #All other cases\n",
    "df_target1 = df[df[\"TARGET\"]==1] #Client with payment difficulties"
   ]
  },
  {
   "cell_type": "code",
   "execution_count": 149,
   "id": "b455457a",
   "metadata": {},
   "outputs": [
    {
     "data": {
      "text/plain": [
       "Index(['SK_ID_CURR', 'TARGET', 'NAME_CONTRACT_TYPE', 'CODE_GENDER',\n",
       "       'FLAG_OWN_CAR', 'FLAG_OWN_REALTY', 'CNT_CHILDREN', 'AMT_INCOME_TOTAL',\n",
       "       'AMT_CREDIT', 'AMT_ANNUITY', 'AMT_GOODS_PRICE', 'NAME_TYPE_SUITE',\n",
       "       'NAME_INCOME_TYPE', 'NAME_EDUCATION_TYPE', 'NAME_FAMILY_STATUS',\n",
       "       'NAME_HOUSING_TYPE', 'REGION_POPULATION_RELATIVE', 'DAYS_BIRTH',\n",
       "       'DAYS_EMPLOYED', 'DAYS_REGISTRATION', 'DAYS_ID_PUBLISH', 'FLAG_MOBIL',\n",
       "       'FLAG_EMP_PHONE', 'FLAG_WORK_PHONE', 'FLAG_CONT_MOBILE', 'FLAG_PHONE',\n",
       "       'FLAG_EMAIL', 'OCCUPATION_TYPE', 'CNT_FAM_MEMBERS',\n",
       "       'REGION_RATING_CLIENT', 'REGION_RATING_CLIENT_W_CITY',\n",
       "       'WEEKDAY_APPR_PROCESS_START', 'HOUR_APPR_PROCESS_START',\n",
       "       'REG_REGION_NOT_LIVE_REGION', 'REG_REGION_NOT_WORK_REGION',\n",
       "       'LIVE_REGION_NOT_WORK_REGION', 'REG_CITY_NOT_LIVE_CITY',\n",
       "       'REG_CITY_NOT_WORK_CITY', 'LIVE_CITY_NOT_WORK_CITY',\n",
       "       'ORGANIZATION_TYPE', 'EXT_SOURCE_2', 'EXT_SOURCE_3',\n",
       "       'OBS_30_CNT_SOCIAL_CIRCLE', 'DEF_30_CNT_SOCIAL_CIRCLE',\n",
       "       'OBS_60_CNT_SOCIAL_CIRCLE', 'DEF_60_CNT_SOCIAL_CIRCLE',\n",
       "       'DAYS_LAST_PHONE_CHANGE', 'FLAG_DOCUMENT_2', 'FLAG_DOCUMENT_3',\n",
       "       'FLAG_DOCUMENT_4', 'FLAG_DOCUMENT_5', 'FLAG_DOCUMENT_6',\n",
       "       'FLAG_DOCUMENT_7', 'FLAG_DOCUMENT_8', 'FLAG_DOCUMENT_9',\n",
       "       'FLAG_DOCUMENT_10', 'FLAG_DOCUMENT_11', 'FLAG_DOCUMENT_12',\n",
       "       'FLAG_DOCUMENT_13', 'FLAG_DOCUMENT_14', 'FLAG_DOCUMENT_15',\n",
       "       'FLAG_DOCUMENT_16', 'FLAG_DOCUMENT_17', 'FLAG_DOCUMENT_18',\n",
       "       'FLAG_DOCUMENT_19', 'FLAG_DOCUMENT_20', 'FLAG_DOCUMENT_21',\n",
       "       'AMT_REQ_CREDIT_BUREAU_HOUR', 'AMT_REQ_CREDIT_BUREAU_DAY',\n",
       "       'AMT_REQ_CREDIT_BUREAU_WEEK', 'AMT_REQ_CREDIT_BUREAU_MON',\n",
       "       'AMT_REQ_CREDIT_BUREAU_QRT', 'AMT_REQ_CREDIT_BUREAU_YEAR'],\n",
       "      dtype='object')"
      ]
     },
     "execution_count": 149,
     "metadata": {},
     "output_type": "execute_result"
    }
   ],
   "source": [
    "df.columns"
   ]
  },
  {
   "cell_type": "code",
   "execution_count": 150,
   "id": "9431757b",
   "metadata": {},
   "outputs": [
    {
     "data": {
      "text/plain": [
       "F      202448\n",
       "M      105059\n",
       "XNA         4\n",
       "Name: CODE_GENDER, dtype: int64"
      ]
     },
     "execution_count": 150,
     "metadata": {},
     "output_type": "execute_result"
    }
   ],
   "source": [
    "df.CODE_GENDER.value_counts()"
   ]
  },
  {
   "cell_type": "markdown",
   "id": "c5e3104f",
   "metadata": {},
   "source": [
    "#### >>WE CAN SEE HERE THAT FEMALE SEEMS TO BE MORE THAN MAN  WHEN THERE IS PAYMENT DIFFICUTIES."
   ]
  },
  {
   "cell_type": "code",
   "execution_count": 151,
   "id": "2506b172",
   "metadata": {},
   "outputs": [
    {
     "data": {
      "image/png": "[encoded data removed]",
      "text/plain": [
       "<Figure size 432x288 with 1 Axes>"
      ]
     },
     "metadata": {
      "needs_background": "light"
     },
     "output_type": "display_data"
    }
   ],
   "source": [
    "sns.countplot(df_target1[\"TARGET\"],hue=df_target1[\"CODE_GENDER\"]) \n",
    "plt.title(\"CODE_GENDER(M,F,XNA) vs Client with payment difficulties\\n\") \n",
    "plt.show()"
   ]
  },
  {
   "cell_type": "markdown",
   "id": "79f89633",
   "metadata": {},
   "source": [
    "#### >>WE CAN CONCLUDE HERE THAT SECONDARY EDUCATION PEOPLE ARE TAKING HIGHEST LOANS THAN OTHER CATEGOTIES AND HAVING PAYMENT DIFFICULTIES "
   ]
  },
  {
   "cell_type": "code",
   "execution_count": 152,
   "id": "20289005",
   "metadata": {},
   "outputs": [
    {
     "data": {
      "image/png": "[encoded data removed]",
      "text/plain": [
       "<Figure size 432x288 with 1 Axes>"
      ]
     },
     "metadata": {},
     "output_type": "display_data"
    }
   ],
   "source": [
    "df_target1.NAME_EDUCATION_TYPE.value_counts(normalize=True).plot.pie()\n",
    "plt.title(\"Education vs Client with payment difficulties\\n\")\n",
    "plt.show()"
   ]
  },
  {
   "cell_type": "markdown",
   "id": "e306fc16",
   "metadata": {},
   "source": [
    "#### >>WE CAN CONCLUDE HERE PEOPLE WHO ARE NOT CAR OWNERS ARE MORE LIKELY TO TAKE LOANS AND ARE CLIENT WITH PAYMENT DIFFICULTIES. "
   ]
  },
  {
   "cell_type": "code",
   "execution_count": 153,
   "id": "be8d3131",
   "metadata": {},
   "outputs": [
    {
     "data": {
      "image/png": "[encoded data removed]",
      "text/plain": [
       "<Figure size 432x288 with 1 Axes>"
      ]
     },
     "metadata": {
      "needs_background": "light"
     },
     "output_type": "display_data"
    }
   ],
   "source": [
    "sns.countplot(df_target1[\"TARGET\"],hue=df_target1[\"FLAG_OWN_CAR\"]) \n",
    "plt.title(\"CAR_Owners vs Client with payment difficulties\\n\") \n",
    "plt.show()"
   ]
  },
  {
   "cell_type": "markdown",
   "id": "544bab88",
   "metadata": {},
   "source": [
    "#### >>WE CAN CONCLUDE HERE THAT PEOPLE WHO ARE MARRIED ARE MORE LIKELY TO TAKE LOANS AND ARE THE CLIENT WITH PAYMENT DIFFICULTIES"
   ]
  },
  {
   "cell_type": "code",
   "execution_count": 154,
   "id": "4600fdb7",
   "metadata": {},
   "outputs": [
    {
     "data": {
      "image/png": "[encoded data removed]",
      "text/plain": [
       "<Figure size 432x288 with 1 Axes>"
      ]
     },
     "metadata": {
      "needs_background": "light"
     },
     "output_type": "display_data"
    }
   ],
   "source": [
    "df_target1.NAME_FAMILY_STATUS.value_counts().plot.barh()\n",
    "plt.title(\"Family status vs Client with payment difficulties\\n\")\n",
    "plt.show()"
   ]
  },
  {
   "cell_type": "markdown",
   "id": "aacc7bc8",
   "metadata": {},
   "source": [
    "#### >>WE CAN CONCLUDE HERE THAT PEOPLE WHO HAVE OWN HOUSE/APARTMENT ARE MORE LIKELY TO TAKE LOANS AND ARE CLIENTS WITH PAYMENT DIFFICULTIES."
   ]
  },
  {
   "cell_type": "code",
   "execution_count": 155,
   "id": "29f5fc74",
   "metadata": {},
   "outputs": [
    {
     "data": {
      "image/png": "[encoded data removed]",
      "text/plain": [
       "<Figure size 432x288 with 1 Axes>"
      ]
     },
     "metadata": {
      "needs_background": "light"
     },
     "output_type": "display_data"
    }
   ],
   "source": [
    "df_target1.NAME_HOUSING_TYPE.value_counts().plot.barh()\n",
    "plt.title(\"NAME_HOUSING_TYPE vs Client with payment difficulties\\n\")\n",
    "plt.show()"
   ]
  },
  {
   "cell_type": "markdown",
   "id": "6b00b18f",
   "metadata": {},
   "source": [
    "#### >>HERE WE CAN CONCLUDE THAT PEOPLE WHO TAKE CASH LOANS ARE THE CLIENTS WITH PAYEMENT DIFFICULTIES."
   ]
  },
  {
   "cell_type": "code",
   "execution_count": 156,
   "id": "8d5787ee",
   "metadata": {},
   "outputs": [
    {
     "data": {
      "image/png": "[encoded data removed]",
      "text/plain": [
       "<Figure size 432x288 with 1 Axes>"
      ]
     },
     "metadata": {
      "needs_background": "light"
     },
     "output_type": "display_data"
    }
   ],
   "source": [
    "df_target1.NAME_CONTRACT_TYPE.value_counts().plot.bar()\n",
    "plt.title(\"NAME_CONTRACT_TYPE vs Client with payment difficulties\\n\")\n",
    "plt.show()\n",
    "\n"
   ]
  },
  {
   "cell_type": "code",
   "execution_count": 157,
   "id": "ee6d09d4",
   "metadata": {},
   "outputs": [
    {
     "data": {
      "text/plain": [
       "0.00      45000.0\n",
       "0.25     270000.0\n",
       "0.50     513531.0\n",
       "0.75     808650.0\n",
       "1.00    4050000.0\n",
       "Name: AMT_CREDIT, dtype: float64"
      ]
     },
     "execution_count": 157,
     "metadata": {},
     "output_type": "execute_result"
    }
   ],
   "source": [
    "#Low range = [0-45000.0]\n",
    "#Average range=[45000.0-270000.0]\n",
    "#Medium range=[270000.0-513531.0]\n",
    "#High range=[513531.0-808650.0]\n",
    "#Ver-high range=[808650.0-4050000.0]\n",
    "\n",
    "\n",
    "df.AMT_CREDIT.quantile([0,0.25,0.5,0.75,1]) "
   ]
  },
  {
   "cell_type": "code",
   "execution_count": 158,
   "id": "776cd475",
   "metadata": {},
   "outputs": [],
   "source": [
    "df[\"AMT_CREDIT_RANGE\"]=pd.cut(df.AMT_CREDIT,[0,45000.0,270000.0,513531.0,808650.0,4050000.0],labels=[\"Low\",\"Average\",\"Medium\",\"High\",\"Very-high\"])"
   ]
  },
  {
   "cell_type": "code",
   "execution_count": 159,
   "id": "b7b10f7b",
   "metadata": {},
   "outputs": [],
   "source": [
    "df_target0 = df[df[\"TARGET\"]==0] #All other cases\n",
    "df_target1 = df[df[\"TARGET\"]==1] #Client with payment difficulties"
   ]
  },
  {
   "cell_type": "markdown",
   "id": "b36751d9",
   "metadata": {},
   "source": [
    "#### >>HERE WE CAN CONCLUDE THAT PEOPLE WITH CREDIT RANGE OF \"MEDIUM\" ,\"HIGH\" AND \"AVERAGE\" ARE MORE LIKELY TO BE CLIENTS WITH PAYMENT DIFFICULTIES."
   ]
  },
  {
   "cell_type": "code",
   "execution_count": 160,
   "id": "d17affba",
   "metadata": {},
   "outputs": [
    {
     "data": {
      "image/png": "[encoded data removed]",
      "text/plain": [
       "<Figure size 432x288 with 1 Axes>"
      ]
     },
     "metadata": {
      "needs_background": "light"
     },
     "output_type": "display_data"
    }
   ],
   "source": [
    "df_target1.AMT_CREDIT_RANGE.value_counts().plot.barh()\n",
    "plt.title(\"AMT_CREDIT_RANGE vs Client with payment difficulties\\n\")\n",
    "plt.show()\n"
   ]
  },
  {
   "cell_type": "code",
   "execution_count": 161,
   "id": "874bfa63",
   "metadata": {},
   "outputs": [
    {
     "data": {
      "text/plain": [
       "0.00        25650.0\n",
       "0.25       112500.0\n",
       "0.50       147150.0\n",
       "0.75       202500.0\n",
       "1.00    117000000.0\n",
       "Name: AMT_INCOME_TOTAL, dtype: float64"
      ]
     },
     "execution_count": 161,
     "metadata": {},
     "output_type": "execute_result"
    }
   ],
   "source": [
    "df.AMT_INCOME_TOTAL.quantile([0,0.25,0.5,0.75,1])\n",
    "\n"
   ]
  },
  {
   "cell_type": "code",
   "execution_count": 162,
   "id": "e01833cf",
   "metadata": {},
   "outputs": [],
   "source": [
    "df.DAYS_EMPLOYED = df.DAYS_EMPLOYED.apply(lambda x: abs(x))"
   ]
  },
  {
   "cell_type": "code",
   "execution_count": 163,
   "id": "e72de47d",
   "metadata": {},
   "outputs": [],
   "source": [
    "df.DAYS_BIRTH = df.DAYS_BIRTH.apply(lambda x: abs(x))"
   ]
  },
  {
   "cell_type": "code",
   "execution_count": 164,
   "id": "b9c85aae",
   "metadata": {},
   "outputs": [],
   "source": [
    "df_target0 = df[df[\"TARGET\"]==0] #All other cases\n",
    "df_target1 = df[df[\"TARGET\"]==1] #Client with payment difficulties"
   ]
  },
  {
   "cell_type": "code",
   "execution_count": 165,
   "id": "92b32013",
   "metadata": {},
   "outputs": [
    {
     "data": {
      "text/plain": [
       "<AxesSubplot:>"
      ]
     },
     "execution_count": 165,
     "metadata": {},
     "output_type": "execute_result"
    },
    {
     "data": {
      "image/png": "[encoded data removed]",
      "text/plain": [
       "<Figure size 432x288 with 2 Axes>"
      ]
     },
     "metadata": {
      "needs_background": "light"
     },
     "output_type": "display_data"
    }
   ],
   "source": [
    "sns.heatmap(df.corr())"
   ]
  },
  {
   "cell_type": "markdown",
   "id": "e10fd23d",
   "metadata": {},
   "source": [
    "#### >>HERE WE CAN CONCLUDE THAT MOST OF THE PEOPLE COME ALONE WHILE TAKING LOANS "
   ]
  },
  {
   "cell_type": "code",
   "execution_count": 166,
   "id": "7e2f64ef",
   "metadata": {},
   "outputs": [
    {
     "data": {
      "image/png": "[encoded data removed]",
      "text/plain": [
       "<Figure size 432x288 with 1 Axes>"
      ]
     },
     "metadata": {
      "needs_background": "light"
     },
     "output_type": "display_data"
    }
   ],
   "source": [
    "df_target1.NAME_TYPE_SUITE.value_counts().plot.bar()\n",
    "plt.title(\"NAME_TYPE_SUITE vs Client with payment difficulties\\n\")\n",
    "plt.show()"
   ]
  },
  {
   "cell_type": "markdown",
   "id": "c87794c0",
   "metadata": {},
   "source": [
    "#### >>HERE WE CAN CONCLUDE THAT WORKING PEOPLE TAKE MORE LOANS AND ARE CLIENTS WITH PAYMENT DIFFICULTIES"
   ]
  },
  {
   "cell_type": "code",
   "execution_count": 167,
   "id": "855cf13e",
   "metadata": {},
   "outputs": [
    {
     "data": {
      "image/png": "[encoded data removed]",
      "text/plain": [
       "<Figure size 432x288 with 1 Axes>"
      ]
     },
     "metadata": {
      "needs_background": "light"
     },
     "output_type": "display_data"
    }
   ],
   "source": [
    "sns.countplot(df_target1[\"TARGET\"],hue=df_target1[\"NAME_INCOME_TYPE\"]) \n",
    "plt.title(\"NAME_INCOME_TYPE vs Client with payment difficulties\\n\") \n",
    "plt.show()"
   ]
  },
  {
   "cell_type": "code",
   "execution_count": 168,
   "id": "f005194b",
   "metadata": {},
   "outputs": [
    {
     "data": {
      "text/plain": [
       "Index(['SK_ID_CURR', 'TARGET', 'NAME_CONTRACT_TYPE', 'CODE_GENDER',\n",
       "       'FLAG_OWN_CAR', 'FLAG_OWN_REALTY', 'CNT_CHILDREN', 'AMT_INCOME_TOTAL',\n",
       "       'AMT_CREDIT', 'AMT_ANNUITY', 'AMT_GOODS_PRICE', 'NAME_TYPE_SUITE',\n",
       "       'NAME_INCOME_TYPE', 'NAME_EDUCATION_TYPE', 'NAME_FAMILY_STATUS',\n",
       "       'NAME_HOUSING_TYPE', 'REGION_POPULATION_RELATIVE', 'DAYS_BIRTH',\n",
       "       'DAYS_EMPLOYED', 'DAYS_REGISTRATION', 'DAYS_ID_PUBLISH', 'FLAG_MOBIL',\n",
       "       'FLAG_EMP_PHONE', 'FLAG_WORK_PHONE', 'FLAG_CONT_MOBILE', 'FLAG_PHONE',\n",
       "       'FLAG_EMAIL', 'OCCUPATION_TYPE', 'CNT_FAM_MEMBERS',\n",
       "       'REGION_RATING_CLIENT', 'REGION_RATING_CLIENT_W_CITY',\n",
       "       'WEEKDAY_APPR_PROCESS_START', 'HOUR_APPR_PROCESS_START',\n",
       "       'REG_REGION_NOT_LIVE_REGION', 'REG_REGION_NOT_WORK_REGION',\n",
       "       'LIVE_REGION_NOT_WORK_REGION', 'REG_CITY_NOT_LIVE_CITY',\n",
       "       'REG_CITY_NOT_WORK_CITY', 'LIVE_CITY_NOT_WORK_CITY',\n",
       "       'ORGANIZATION_TYPE', 'EXT_SOURCE_2', 'EXT_SOURCE_3',\n",
       "       'OBS_30_CNT_SOCIAL_CIRCLE', 'DEF_30_CNT_SOCIAL_CIRCLE',\n",
       "       'OBS_60_CNT_SOCIAL_CIRCLE', 'DEF_60_CNT_SOCIAL_CIRCLE',\n",
       "       'DAYS_LAST_PHONE_CHANGE', 'FLAG_DOCUMENT_2', 'FLAG_DOCUMENT_3',\n",
       "       'FLAG_DOCUMENT_4', 'FLAG_DOCUMENT_5', 'FLAG_DOCUMENT_6',\n",
       "       'FLAG_DOCUMENT_7', 'FLAG_DOCUMENT_8', 'FLAG_DOCUMENT_9',\n",
       "       'FLAG_DOCUMENT_10', 'FLAG_DOCUMENT_11', 'FLAG_DOCUMENT_12',\n",
       "       'FLAG_DOCUMENT_13', 'FLAG_DOCUMENT_14', 'FLAG_DOCUMENT_15',\n",
       "       'FLAG_DOCUMENT_16', 'FLAG_DOCUMENT_17', 'FLAG_DOCUMENT_18',\n",
       "       'FLAG_DOCUMENT_19', 'FLAG_DOCUMENT_20', 'FLAG_DOCUMENT_21',\n",
       "       'AMT_REQ_CREDIT_BUREAU_HOUR', 'AMT_REQ_CREDIT_BUREAU_DAY',\n",
       "       'AMT_REQ_CREDIT_BUREAU_WEEK', 'AMT_REQ_CREDIT_BUREAU_MON',\n",
       "       'AMT_REQ_CREDIT_BUREAU_QRT', 'AMT_REQ_CREDIT_BUREAU_YEAR',\n",
       "       'AMT_CREDIT_RANGE'],\n",
       "      dtype='object')"
      ]
     },
     "execution_count": 168,
     "metadata": {},
     "output_type": "execute_result"
    }
   ],
   "source": [
    "df.columns"
   ]
  },
  {
   "cell_type": "code",
   "execution_count": 169,
   "id": "51c785ca",
   "metadata": {},
   "outputs": [
    {
     "data": {
      "text/plain": [
       "0          9461\n",
       "1         16765\n",
       "2         19046\n",
       "3         19005\n",
       "4         19932\n",
       "          ...  \n",
       "307506     9327\n",
       "307507    20775\n",
       "307508    14966\n",
       "307509    11961\n",
       "307510    16856\n",
       "Name: DAYS_BIRTH, Length: 307511, dtype: int64"
      ]
     },
     "execution_count": 169,
     "metadata": {},
     "output_type": "execute_result"
    }
   ],
   "source": [
    "df.DAYS_BIRTH"
   ]
  },
  {
   "cell_type": "code",
   "execution_count": 170,
   "id": "d78f0e3c",
   "metadata": {},
   "outputs": [
    {
     "data": {
      "text/plain": [
       "0.00     7489.0\n",
       "0.25    12413.0\n",
       "0.50    15750.0\n",
       "0.75    19682.0\n",
       "1.00    25229.0\n",
       "Name: DAYS_BIRTH, dtype: float64"
      ]
     },
     "execution_count": 170,
     "metadata": {},
     "output_type": "execute_result"
    }
   ],
   "source": [
    "df.DAYS_BIRTH.quantile([0,0.25,0.50,0.75,1])"
   ]
  },
  {
   "cell_type": "code",
   "execution_count": 171,
   "id": "64a0100f",
   "metadata": {},
   "outputs": [],
   "source": [
    "df[\"DAYS_BIRTH_RANGE\"]=pd.cut(df.DAYS_BIRTH,[0,7489.0,12413.0,15750.0,19682.0,25229.0],labels=[\"0-20\",\"20-40\",\"40-50\",\"50-60\",\"60+\"])"
   ]
  },
  {
   "cell_type": "code",
   "execution_count": 172,
   "id": "5968eb72",
   "metadata": {},
   "outputs": [],
   "source": [
    "df_target1 = df[df[\"TARGET\"]==1] #Client with payment difficulties"
   ]
  },
  {
   "cell_type": "markdown",
   "id": "428f1834",
   "metadata": {},
   "source": [
    "#### >>PEOPLE WITH AGE GROUP (20-40) YRS TENDS TO TAKE MORE LOANS AND COMES IN DEFAULTERS "
   ]
  },
  {
   "cell_type": "code",
   "execution_count": 173,
   "id": "d377583c",
   "metadata": {},
   "outputs": [
    {
     "data": {
      "image/png": "[encoded data removed]",
      "text/plain": [
       "<Figure size 432x288 with 1 Axes>"
      ]
     },
     "metadata": {
      "needs_background": "light"
     },
     "output_type": "display_data"
    }
   ],
   "source": [
    "sns.countplot(df_target1[\"TARGET\"],hue=df_target1[\"DAYS_BIRTH_RANGE\"]) \n",
    "plt.title(\"DAYS_BIRTH_RANGE vs Client with payment difficulties\\n\") \n",
    "plt.show()"
   ]
  },
  {
   "cell_type": "markdown",
   "id": "3cc7b2f7",
   "metadata": {},
   "source": [
    "#### SOME MAJOR FINAL CONCLUSION WE CAN MAKE HERE FROM DATAFRAME \"df\" WHICH IS APPLICATION DATA:-"
   ]
  },
  {
   "cell_type": "markdown",
   "id": "b6bf31b2",
   "metadata": {},
   "source": [
    "#### >>\"OCCUPATION_TYPE\" OF \"LABORERS\",\"SALES STAFF\",\"\"CORE STAFF\" ARE MORE LIKELY TO APPLY FOR LOANS\n",
    "#### >>FEMALE SEEMS TO BE MORE THAN MAN WHEN THERE IS PAYMENT DIFFICUTIES.\n",
    "#### >>SECONDARY EDUCATION PEOPLE ARE TAKING  LOANS MORE THAN OTHER CATEGOTIES AND HAVING PAYMENT DIFFICULTIES.\n",
    "#### >>PEOPLE WHO ARE NOT CAR OWNERS ARE MORE LIKELY TO TAKE LOANS AND ARE CLIENT WITH PAYMENT DIFFICULTIES.\n",
    "#### >>PEOPLE WHO ARE MARRIED ARE MORE LIKELY TO TAKE LOANS AND ARE THE CLIENT WITH PAYMENT DIFFICULTIES\n",
    "#### >>PEOPLE WHO HAVE OWN HOUSE/APARTMENT ARE MORE LIKELY TO TAKE LOANS AND ARE CLIENTS WITH PAYMENT DIFFICULTIES.\n",
    "#### >>PEOPLE WHO TAKE CASH LOANS ARE THE CLIENTS WITH PAYEMENT DIFFICULTIES.\n",
    "#### >>PEOPLE WITH CREDIT RANGE OF \"MEDIUM\" ,\"HIGH\" AND \"AVERAGE\" ARE MORE LIKELY TO BE CLIENTS WITH PAYMENT DIFFICULTIES.\n",
    "#### >>MOST OF THE PEOPLE COME ALONE WHILE TAKING LOANS AND ARE THE CLIENTS WITH PAYMENT DIFFICULTIES.\n",
    "#### >>WORKING PEOPLE TAKE MORE LOANS THAN ANY OTHER INCOME TYPE CATEGORIES AND ARE THE CLIENTS WITH PAYMENT DIFFICULTIES\n",
    "#### >>PEOPLE WITH AGE GROUP (20-40) YRS TENDS TO TAKE MORE LOANS AND COMES IN DEFAULTERS .\n",
    "\n",
    "## ********************************************************************************************************"
   ]
  },
  {
   "cell_type": "markdown",
   "id": "7568b802",
   "metadata": {},
   "source": [
    "### PREVIOUS APPLICATION DATASET ANALYSIS"
   ]
  },
  {
   "cell_type": "code",
   "execution_count": 174,
   "id": "7dcb8acc",
   "metadata": {},
   "outputs": [
    {
     "data": {
      "text/html": [
       "<div>\n",
       "<style scoped>\n",
       "    .dataframe tbody tr th:only-of-type {\n",
       "        vertical-align: middle;\n",
       "    }\n",
       "\n",
       "    .dataframe tbody tr th {\n",
       "        vertical-align: top;\n",
       "    }\n",
       "\n",
       "    .dataframe thead th {\n",
       "        text-align: right;\n",
       "    }\n",
       "</style>\n",
       "<table border=\"1\" class=\"dataframe\">\n",
       "  <thead>\n",
       "    <tr style=\"text-align: right;\">\n",
       "      <th></th>\n",
       "      <th>SK_ID_PREV</th>\n",
       "      <th>SK_ID_CURR</th>\n",
       "      <th>NAME_CONTRACT_TYPE</th>\n",
       "      <th>AMT_ANNUITY</th>\n",
       "      <th>AMT_APPLICATION</th>\n",
       "      <th>AMT_CREDIT</th>\n",
       "      <th>AMT_DOWN_PAYMENT</th>\n",
       "      <th>AMT_GOODS_PRICE</th>\n",
       "      <th>WEEKDAY_APPR_PROCESS_START</th>\n",
       "      <th>HOUR_APPR_PROCESS_START</th>\n",
       "      <th>...</th>\n",
       "      <th>NAME_SELLER_INDUSTRY</th>\n",
       "      <th>CNT_PAYMENT</th>\n",
       "      <th>NAME_YIELD_GROUP</th>\n",
       "      <th>PRODUCT_COMBINATION</th>\n",
       "      <th>DAYS_FIRST_DRAWING</th>\n",
       "      <th>DAYS_FIRST_DUE</th>\n",
       "      <th>DAYS_LAST_DUE_1ST_VERSION</th>\n",
       "      <th>DAYS_LAST_DUE</th>\n",
       "      <th>DAYS_TERMINATION</th>\n",
       "      <th>NFLAG_INSURED_ON_APPROVAL</th>\n",
       "    </tr>\n",
       "  </thead>\n",
       "  <tbody>\n",
       "    <tr>\n",
       "      <th>0</th>\n",
       "      <td>2030495</td>\n",
       "      <td>271877</td>\n",
       "      <td>Consumer loans</td>\n",
       "      <td>1730.430</td>\n",
       "      <td>17145.0</td>\n",
       "      <td>17145.0</td>\n",
       "      <td>0.0</td>\n",
       "      <td>17145.0</td>\n",
       "      <td>SATURDAY</td>\n",
       "      <td>15</td>\n",
       "      <td>...</td>\n",
       "      <td>Connectivity</td>\n",
       "      <td>12.0</td>\n",
       "      <td>middle</td>\n",
       "      <td>POS mobile with interest</td>\n",
       "      <td>365243.0</td>\n",
       "      <td>-42.0</td>\n",
       "      <td>300.0</td>\n",
       "      <td>-42.0</td>\n",
       "      <td>-37.0</td>\n",
       "      <td>0.0</td>\n",
       "    </tr>\n",
       "    <tr>\n",
       "      <th>1</th>\n",
       "      <td>2802425</td>\n",
       "      <td>108129</td>\n",
       "      <td>Cash loans</td>\n",
       "      <td>25188.615</td>\n",
       "      <td>607500.0</td>\n",
       "      <td>679671.0</td>\n",
       "      <td>NaN</td>\n",
       "      <td>607500.0</td>\n",
       "      <td>THURSDAY</td>\n",
       "      <td>11</td>\n",
       "      <td>...</td>\n",
       "      <td>XNA</td>\n",
       "      <td>36.0</td>\n",
       "      <td>low_action</td>\n",
       "      <td>Cash X-Sell: low</td>\n",
       "      <td>365243.0</td>\n",
       "      <td>-134.0</td>\n",
       "      <td>916.0</td>\n",
       "      <td>365243.0</td>\n",
       "      <td>365243.0</td>\n",
       "      <td>1.0</td>\n",
       "    </tr>\n",
       "    <tr>\n",
       "      <th>2</th>\n",
       "      <td>2523466</td>\n",
       "      <td>122040</td>\n",
       "      <td>Cash loans</td>\n",
       "      <td>15060.735</td>\n",
       "      <td>112500.0</td>\n",
       "      <td>136444.5</td>\n",
       "      <td>NaN</td>\n",
       "      <td>112500.0</td>\n",
       "      <td>TUESDAY</td>\n",
       "      <td>11</td>\n",
       "      <td>...</td>\n",
       "      <td>XNA</td>\n",
       "      <td>12.0</td>\n",
       "      <td>high</td>\n",
       "      <td>Cash X-Sell: high</td>\n",
       "      <td>365243.0</td>\n",
       "      <td>-271.0</td>\n",
       "      <td>59.0</td>\n",
       "      <td>365243.0</td>\n",
       "      <td>365243.0</td>\n",
       "      <td>1.0</td>\n",
       "    </tr>\n",
       "    <tr>\n",
       "      <th>3</th>\n",
       "      <td>2819243</td>\n",
       "      <td>176158</td>\n",
       "      <td>Cash loans</td>\n",
       "      <td>47041.335</td>\n",
       "      <td>450000.0</td>\n",
       "      <td>470790.0</td>\n",
       "      <td>NaN</td>\n",
       "      <td>450000.0</td>\n",
       "      <td>MONDAY</td>\n",
       "      <td>7</td>\n",
       "      <td>...</td>\n",
       "      <td>XNA</td>\n",
       "      <td>12.0</td>\n",
       "      <td>middle</td>\n",
       "      <td>Cash X-Sell: middle</td>\n",
       "      <td>365243.0</td>\n",
       "      <td>-482.0</td>\n",
       "      <td>-152.0</td>\n",
       "      <td>-182.0</td>\n",
       "      <td>-177.0</td>\n",
       "      <td>1.0</td>\n",
       "    </tr>\n",
       "    <tr>\n",
       "      <th>4</th>\n",
       "      <td>1784265</td>\n",
       "      <td>202054</td>\n",
       "      <td>Cash loans</td>\n",
       "      <td>31924.395</td>\n",
       "      <td>337500.0</td>\n",
       "      <td>404055.0</td>\n",
       "      <td>NaN</td>\n",
       "      <td>337500.0</td>\n",
       "      <td>THURSDAY</td>\n",
       "      <td>9</td>\n",
       "      <td>...</td>\n",
       "      <td>XNA</td>\n",
       "      <td>24.0</td>\n",
       "      <td>high</td>\n",
       "      <td>Cash Street: high</td>\n",
       "      <td>NaN</td>\n",
       "      <td>NaN</td>\n",
       "      <td>NaN</td>\n",
       "      <td>NaN</td>\n",
       "      <td>NaN</td>\n",
       "      <td>NaN</td>\n",
       "    </tr>\n",
       "  </tbody>\n",
       "</table>\n",
       "<p>5 rows × 37 columns</p>\n",
       "</div>"
      ],
      "text/plain": [
       "   SK_ID_PREV  SK_ID_CURR NAME_CONTRACT_TYPE  AMT_ANNUITY  AMT_APPLICATION  \\\n",
       "0     2030495      271877     Consumer loans     1730.430          17145.0   \n",
       "1     2802425      108129         Cash loans    25188.615         607500.0   \n",
       "2     2523466      122040         Cash loans    15060.735         112500.0   \n",
       "3     2819243      176158         Cash loans    47041.335         450000.0   \n",
       "4     1784265      202054         Cash loans    31924.395         337500.0   \n",
       "\n",
       "   AMT_CREDIT  AMT_DOWN_PAYMENT  AMT_GOODS_PRICE WEEKDAY_APPR_PROCESS_START  \\\n",
       "0     17145.0               0.0          17145.0                   SATURDAY   \n",
       "1    679671.0               NaN         607500.0                   THURSDAY   \n",
       "2    136444.5               NaN         112500.0                    TUESDAY   \n",
       "3    470790.0               NaN         450000.0                     MONDAY   \n",
       "4    404055.0               NaN         337500.0                   THURSDAY   \n",
       "\n",
       "   HOUR_APPR_PROCESS_START  ... NAME_SELLER_INDUSTRY  CNT_PAYMENT  \\\n",
       "0                       15  ...         Connectivity         12.0   \n",
       "1                       11  ...                  XNA         36.0   \n",
       "2                       11  ...                  XNA         12.0   \n",
       "3                        7  ...                  XNA         12.0   \n",
       "4                        9  ...                  XNA         24.0   \n",
       "\n",
       "   NAME_YIELD_GROUP       PRODUCT_COMBINATION  DAYS_FIRST_DRAWING  \\\n",
       "0            middle  POS mobile with interest            365243.0   \n",
       "1        low_action          Cash X-Sell: low            365243.0   \n",
       "2              high         Cash X-Sell: high            365243.0   \n",
       "3            middle       Cash X-Sell: middle            365243.0   \n",
       "4              high         Cash Street: high                 NaN   \n",
       "\n",
       "  DAYS_FIRST_DUE DAYS_LAST_DUE_1ST_VERSION  DAYS_LAST_DUE DAYS_TERMINATION  \\\n",
       "0          -42.0                     300.0          -42.0            -37.0   \n",
       "1         -134.0                     916.0       365243.0         365243.0   \n",
       "2         -271.0                      59.0       365243.0         365243.0   \n",
       "3         -482.0                    -152.0         -182.0           -177.0   \n",
       "4            NaN                       NaN            NaN              NaN   \n",
       "\n",
       "  NFLAG_INSURED_ON_APPROVAL  \n",
       "0                       0.0  \n",
       "1                       1.0  \n",
       "2                       1.0  \n",
       "3                       1.0  \n",
       "4                       NaN  \n",
       "\n",
       "[5 rows x 37 columns]"
      ]
     },
     "execution_count": 174,
     "metadata": {},
     "output_type": "execute_result"
    }
   ],
   "source": [
    "df1.head() #df1 is the dataframe for previous data"
   ]
  },
  {
   "cell_type": "code",
   "execution_count": 175,
   "id": "7672d556",
   "metadata": {},
   "outputs": [
    {
     "data": {
      "text/plain": [
       "0          0.567568\n",
       "673065     0.162162\n",
       "895844     0.054054\n",
       "1664263    0.054054\n",
       "372235     0.027027\n",
       "1          0.027027\n",
       "385515     0.027027\n",
       "820405     0.027027\n",
       "372230     0.027027\n",
       "346        0.027027\n",
       "dtype: float64"
      ]
     },
     "execution_count": 175,
     "metadata": {},
     "output_type": "execute_result"
    }
   ],
   "source": [
    "df1.isnull().sum().value_counts(normalize=True)"
   ]
  },
  {
   "cell_type": "markdown",
   "id": "630e1fe1",
   "metadata": {},
   "source": [
    "#### >>DATA CLEANING"
   ]
  },
  {
   "cell_type": "markdown",
   "id": "b5039a7a",
   "metadata": {},
   "source": [
    "#### >>AS WE CAN SEE THERE NULL VALUES WHICH ARE MORE THAN 50% SO WE DROP THOSE COLUMNS HAVING NULL VALUES MORE THAN 35%"
   ]
  },
  {
   "cell_type": "code",
   "execution_count": 176,
   "id": "004ea277",
   "metadata": {},
   "outputs": [
    {
     "data": {
      "text/plain": [
       "4772040.0"
      ]
     },
     "execution_count": 176,
     "metadata": {},
     "output_type": "execute_result"
    }
   ],
   "source": [
    "y = len(df1)/0.35\n",
    "y"
   ]
  },
  {
   "cell_type": "code",
   "execution_count": 177,
   "id": "0abe4dea",
   "metadata": {},
   "outputs": [],
   "source": [
    "df1=df1[df1.columns[df1.isnull().sum()<y]]"
   ]
  },
  {
   "cell_type": "code",
   "execution_count": 178,
   "id": "606e8f85",
   "metadata": {},
   "outputs": [
    {
     "data": {
      "text/plain": [
       "SK_ID_PREV                           0\n",
       "SK_ID_CURR                           0\n",
       "NAME_CONTRACT_TYPE                   0\n",
       "AMT_ANNUITY                     372235\n",
       "AMT_APPLICATION                      0\n",
       "AMT_CREDIT                           1\n",
       "AMT_DOWN_PAYMENT                895844\n",
       "AMT_GOODS_PRICE                 385515\n",
       "WEEKDAY_APPR_PROCESS_START           0\n",
       "HOUR_APPR_PROCESS_START              0\n",
       "FLAG_LAST_APPL_PER_CONTRACT          0\n",
       "NFLAG_LAST_APPL_IN_DAY               0\n",
       "RATE_DOWN_PAYMENT               895844\n",
       "RATE_INTEREST_PRIMARY          1664263\n",
       "RATE_INTEREST_PRIVILEGED       1664263\n",
       "NAME_CASH_LOAN_PURPOSE               0\n",
       "NAME_CONTRACT_STATUS                 0\n",
       "DAYS_DECISION                        0\n",
       "NAME_PAYMENT_TYPE                    0\n",
       "CODE_REJECT_REASON                   0\n",
       "NAME_TYPE_SUITE                 820405\n",
       "NAME_CLIENT_TYPE                     0\n",
       "NAME_GOODS_CATEGORY                  0\n",
       "NAME_PORTFOLIO                       0\n",
       "NAME_PRODUCT_TYPE                    0\n",
       "CHANNEL_TYPE                         0\n",
       "SELLERPLACE_AREA                     0\n",
       "NAME_SELLER_INDUSTRY                 0\n",
       "CNT_PAYMENT                     372230\n",
       "NAME_YIELD_GROUP                     0\n",
       "PRODUCT_COMBINATION                346\n",
       "DAYS_FIRST_DRAWING              673065\n",
       "DAYS_FIRST_DUE                  673065\n",
       "DAYS_LAST_DUE_1ST_VERSION       673065\n",
       "DAYS_LAST_DUE                   673065\n",
       "DAYS_TERMINATION                673065\n",
       "NFLAG_INSURED_ON_APPROVAL       673065\n",
       "dtype: int64"
      ]
     },
     "execution_count": 178,
     "metadata": {},
     "output_type": "execute_result"
    }
   ],
   "source": [
    "df1.isnull().sum()"
   ]
  },
  {
   "cell_type": "markdown",
   "id": "78e45a08",
   "metadata": {},
   "source": [
    "#### >>FILLING THE NULL VALUES OF COLUMN \"AMT_ANNUITY\" AND \"AMT_GOODS_PRICE\" WITH THEIR MEDIAN"
   ]
  },
  {
   "cell_type": "code",
   "execution_count": 179,
   "id": "da759400",
   "metadata": {},
   "outputs": [
    {
     "data": {
      "text/plain": [
       "11250.0"
      ]
     },
     "execution_count": 179,
     "metadata": {},
     "output_type": "execute_result"
    }
   ],
   "source": [
    "df1.AMT_ANNUITY.median()"
   ]
  },
  {
   "cell_type": "code",
   "execution_count": 180,
   "id": "48331cb7",
   "metadata": {},
   "outputs": [],
   "source": [
    "df1.AMT_ANNUITY.fillna(df1.AMT_ANNUITY.median(),inplace=True)"
   ]
  },
  {
   "cell_type": "code",
   "execution_count": 181,
   "id": "5938e9bc",
   "metadata": {},
   "outputs": [
    {
     "data": {
      "text/plain": [
       "112320.0"
      ]
     },
     "execution_count": 181,
     "metadata": {},
     "output_type": "execute_result"
    }
   ],
   "source": [
    "df1.AMT_GOODS_PRICE.median()"
   ]
  },
  {
   "cell_type": "code",
   "execution_count": 182,
   "id": "09930732",
   "metadata": {},
   "outputs": [],
   "source": [
    "df1.AMT_GOODS_PRICE.fillna(df1.AMT_GOODS_PRICE.median(),inplace=True)"
   ]
  },
  {
   "cell_type": "markdown",
   "id": "5b435f7e",
   "metadata": {},
   "source": [
    "#### >>WE HAVE THE DESIRED DATA COLUMNS NOW WITH NONULL VALUES WHICH WILL BE USED FOR ANALYSIS."
   ]
  },
  {
   "cell_type": "code",
   "execution_count": 183,
   "id": "8fe90f6a",
   "metadata": {},
   "outputs": [
    {
     "data": {
      "text/plain": [
       "SK_ID_PREV                           0\n",
       "SK_ID_CURR                           0\n",
       "NAME_CONTRACT_TYPE                   0\n",
       "AMT_ANNUITY                          0\n",
       "AMT_APPLICATION                      0\n",
       "AMT_CREDIT                           1\n",
       "AMT_DOWN_PAYMENT                895844\n",
       "AMT_GOODS_PRICE                      0\n",
       "WEEKDAY_APPR_PROCESS_START           0\n",
       "HOUR_APPR_PROCESS_START              0\n",
       "FLAG_LAST_APPL_PER_CONTRACT          0\n",
       "NFLAG_LAST_APPL_IN_DAY               0\n",
       "RATE_DOWN_PAYMENT               895844\n",
       "RATE_INTEREST_PRIMARY          1664263\n",
       "RATE_INTEREST_PRIVILEGED       1664263\n",
       "NAME_CASH_LOAN_PURPOSE               0\n",
       "NAME_CONTRACT_STATUS                 0\n",
       "DAYS_DECISION                        0\n",
       "NAME_PAYMENT_TYPE                    0\n",
       "CODE_REJECT_REASON                   0\n",
       "NAME_TYPE_SUITE                 820405\n",
       "NAME_CLIENT_TYPE                     0\n",
       "NAME_GOODS_CATEGORY                  0\n",
       "NAME_PORTFOLIO                       0\n",
       "NAME_PRODUCT_TYPE                    0\n",
       "CHANNEL_TYPE                         0\n",
       "SELLERPLACE_AREA                     0\n",
       "NAME_SELLER_INDUSTRY                 0\n",
       "CNT_PAYMENT                     372230\n",
       "NAME_YIELD_GROUP                     0\n",
       "PRODUCT_COMBINATION                346\n",
       "DAYS_FIRST_DRAWING              673065\n",
       "DAYS_FIRST_DUE                  673065\n",
       "DAYS_LAST_DUE_1ST_VERSION       673065\n",
       "DAYS_LAST_DUE                   673065\n",
       "DAYS_TERMINATION                673065\n",
       "NFLAG_INSURED_ON_APPROVAL       673065\n",
       "dtype: int64"
      ]
     },
     "execution_count": 183,
     "metadata": {},
     "output_type": "execute_result"
    }
   ],
   "source": [
    "df1.isnull().sum()"
   ]
  },
  {
   "cell_type": "code",
   "execution_count": 184,
   "id": "fd7b6112",
   "metadata": {},
   "outputs": [
    {
     "name": "stdout",
     "output_type": "stream",
     "text": [
      "<class 'pandas.core.frame.DataFrame'>\n",
      "RangeIndex: 1670214 entries, 0 to 1670213\n",
      "Data columns (total 37 columns):\n",
      " #   Column                       Non-Null Count    Dtype  \n",
      "---  ------                       --------------    -----  \n",
      " 0   SK_ID_PREV                   1670214 non-null  int64  \n",
      " 1   SK_ID_CURR                   1670214 non-null  int64  \n",
      " 2   NAME_CONTRACT_TYPE           1670214 non-null  object \n",
      " 3   AMT_ANNUITY                  1670214 non-null  float64\n",
      " 4   AMT_APPLICATION              1670214 non-null  float64\n",
      " 5   AMT_CREDIT                   1670213 non-null  float64\n",
      " 6   AMT_DOWN_PAYMENT             774370 non-null   float64\n",
      " 7   AMT_GOODS_PRICE              1670214 non-null  float64\n",
      " 8   WEEKDAY_APPR_PROCESS_START   1670214 non-null  object \n",
      " 9   HOUR_APPR_PROCESS_START      1670214 non-null  int64  \n",
      " 10  FLAG_LAST_APPL_PER_CONTRACT  1670214 non-null  object \n",
      " 11  NFLAG_LAST_APPL_IN_DAY       1670214 non-null  int64  \n",
      " 12  RATE_DOWN_PAYMENT            774370 non-null   float64\n",
      " 13  RATE_INTEREST_PRIMARY        5951 non-null     float64\n",
      " 14  RATE_INTEREST_PRIVILEGED     5951 non-null     float64\n",
      " 15  NAME_CASH_LOAN_PURPOSE       1670214 non-null  object \n",
      " 16  NAME_CONTRACT_STATUS         1670214 non-null  object \n",
      " 17  DAYS_DECISION                1670214 non-null  int64  \n",
      " 18  NAME_PAYMENT_TYPE            1670214 non-null  object \n",
      " 19  CODE_REJECT_REASON           1670214 non-null  object \n",
      " 20  NAME_TYPE_SUITE              849809 non-null   object \n",
      " 21  NAME_CLIENT_TYPE             1670214 non-null  object \n",
      " 22  NAME_GOODS_CATEGORY          1670214 non-null  object \n",
      " 23  NAME_PORTFOLIO               1670214 non-null  object \n",
      " 24  NAME_PRODUCT_TYPE            1670214 non-null  object \n",
      " 25  CHANNEL_TYPE                 1670214 non-null  object \n",
      " 26  SELLERPLACE_AREA             1670214 non-null  int64  \n",
      " 27  NAME_SELLER_INDUSTRY         1670214 non-null  object \n",
      " 28  CNT_PAYMENT                  1297984 non-null  float64\n",
      " 29  NAME_YIELD_GROUP             1670214 non-null  object \n",
      " 30  PRODUCT_COMBINATION          1669868 non-null  object \n",
      " 31  DAYS_FIRST_DRAWING           997149 non-null   float64\n",
      " 32  DAYS_FIRST_DUE               997149 non-null   float64\n",
      " 33  DAYS_LAST_DUE_1ST_VERSION    997149 non-null   float64\n",
      " 34  DAYS_LAST_DUE                997149 non-null   float64\n",
      " 35  DAYS_TERMINATION             997149 non-null   float64\n",
      " 36  NFLAG_INSURED_ON_APPROVAL    997149 non-null   float64\n",
      "dtypes: float64(15), int64(6), object(16)\n",
      "memory usage: 471.5+ MB\n"
     ]
    }
   ],
   "source": [
    "df1.info()"
   ]
  },
  {
   "cell_type": "code",
   "execution_count": 185,
   "id": "ad8c60d5",
   "metadata": {},
   "outputs": [
    {
     "data": {
      "text/plain": [
       "Index(['SK_ID_PREV', 'SK_ID_CURR', 'NAME_CONTRACT_TYPE', 'AMT_ANNUITY',\n",
       "       'AMT_APPLICATION', 'AMT_CREDIT', 'AMT_DOWN_PAYMENT', 'AMT_GOODS_PRICE',\n",
       "       'WEEKDAY_APPR_PROCESS_START', 'HOUR_APPR_PROCESS_START',\n",
       "       'FLAG_LAST_APPL_PER_CONTRACT', 'NFLAG_LAST_APPL_IN_DAY',\n",
       "       'RATE_DOWN_PAYMENT', 'RATE_INTEREST_PRIMARY',\n",
       "       'RATE_INTEREST_PRIVILEGED', 'NAME_CASH_LOAN_PURPOSE',\n",
       "       'NAME_CONTRACT_STATUS', 'DAYS_DECISION', 'NAME_PAYMENT_TYPE',\n",
       "       'CODE_REJECT_REASON', 'NAME_TYPE_SUITE', 'NAME_CLIENT_TYPE',\n",
       "       'NAME_GOODS_CATEGORY', 'NAME_PORTFOLIO', 'NAME_PRODUCT_TYPE',\n",
       "       'CHANNEL_TYPE', 'SELLERPLACE_AREA', 'NAME_SELLER_INDUSTRY',\n",
       "       'CNT_PAYMENT', 'NAME_YIELD_GROUP', 'PRODUCT_COMBINATION',\n",
       "       'DAYS_FIRST_DRAWING', 'DAYS_FIRST_DUE', 'DAYS_LAST_DUE_1ST_VERSION',\n",
       "       'DAYS_LAST_DUE', 'DAYS_TERMINATION', 'NFLAG_INSURED_ON_APPROVAL'],\n",
       "      dtype='object')"
      ]
     },
     "execution_count": 185,
     "metadata": {},
     "output_type": "execute_result"
    }
   ],
   "source": [
    "df1.columns"
   ]
  },
  {
   "cell_type": "markdown",
   "id": "701e3846",
   "metadata": {},
   "source": [
    "### UNIVARIATE ,BIVARAITE AND MULTIVARIATE ANALYSIS"
   ]
  },
  {
   "cell_type": "markdown",
   "id": "580e375b",
   "metadata": {},
   "source": [
    "#### >>WE CAN SEE MOST OF THE APPLICATIONS GOT APPROVED FROM PREVIOUS DATA"
   ]
  },
  {
   "cell_type": "code",
   "execution_count": 186,
   "id": "2797ff75",
   "metadata": {},
   "outputs": [
    {
     "data": {
      "image/png": "[encoded data removed]",
      "text/plain": [
       "<Figure size 432x288 with 1 Axes>"
      ]
     },
     "metadata": {
      "needs_background": "light"
     },
     "output_type": "display_data"
    }
   ],
   "source": [
    "df1.NAME_CONTRACT_STATUS.value_counts().plot.barh()\n",
    "plt.show()"
   ]
  },
  {
   "cell_type": "markdown",
   "id": "4e13085c",
   "metadata": {},
   "source": [
    "### >>MERGING BOTH DATA FOR ANAYSIS WITH SUFFIX CURRENT AND PREVIOUS"
   ]
  },
  {
   "cell_type": "code",
   "execution_count": 187,
   "id": "ecc186f8",
   "metadata": {},
   "outputs": [],
   "source": [
    "#df_merged is merged dataframe for application data and previous application data.\n",
    "\n",
    "df_merged=df.merge(df1,how='left',on='SK_ID_CURR',suffixes=('_Current', '_Previous'))"
   ]
  },
  {
   "cell_type": "code",
   "execution_count": 188,
   "id": "b093733d",
   "metadata": {},
   "outputs": [
    {
     "data": {
      "text/html": [
       "<div>\n",
       "<style scoped>\n",
       "    .dataframe tbody tr th:only-of-type {\n",
       "        vertical-align: middle;\n",
       "    }\n",
       "\n",
       "    .dataframe tbody tr th {\n",
       "        vertical-align: top;\n",
       "    }\n",
       "\n",
       "    .dataframe thead th {\n",
       "        text-align: right;\n",
       "    }\n",
       "</style>\n",
       "<table border=\"1\" class=\"dataframe\">\n",
       "  <thead>\n",
       "    <tr style=\"text-align: right;\">\n",
       "      <th></th>\n",
       "      <th>SK_ID_CURR</th>\n",
       "      <th>TARGET</th>\n",
       "      <th>NAME_CONTRACT_TYPE_Current</th>\n",
       "      <th>CODE_GENDER</th>\n",
       "      <th>FLAG_OWN_CAR</th>\n",
       "      <th>FLAG_OWN_REALTY</th>\n",
       "      <th>CNT_CHILDREN</th>\n",
       "      <th>AMT_INCOME_TOTAL</th>\n",
       "      <th>AMT_CREDIT_Current</th>\n",
       "      <th>AMT_ANNUITY_Current</th>\n",
       "      <th>...</th>\n",
       "      <th>NAME_SELLER_INDUSTRY</th>\n",
       "      <th>CNT_PAYMENT</th>\n",
       "      <th>NAME_YIELD_GROUP</th>\n",
       "      <th>PRODUCT_COMBINATION</th>\n",
       "      <th>DAYS_FIRST_DRAWING</th>\n",
       "      <th>DAYS_FIRST_DUE</th>\n",
       "      <th>DAYS_LAST_DUE_1ST_VERSION</th>\n",
       "      <th>DAYS_LAST_DUE</th>\n",
       "      <th>DAYS_TERMINATION</th>\n",
       "      <th>NFLAG_INSURED_ON_APPROVAL</th>\n",
       "    </tr>\n",
       "  </thead>\n",
       "  <tbody>\n",
       "    <tr>\n",
       "      <th>0</th>\n",
       "      <td>100002</td>\n",
       "      <td>1</td>\n",
       "      <td>Cash loans</td>\n",
       "      <td>M</td>\n",
       "      <td>N</td>\n",
       "      <td>Y</td>\n",
       "      <td>0</td>\n",
       "      <td>202500.0</td>\n",
       "      <td>406597.5</td>\n",
       "      <td>24700.5</td>\n",
       "      <td>...</td>\n",
       "      <td>Auto technology</td>\n",
       "      <td>24.0</td>\n",
       "      <td>low_normal</td>\n",
       "      <td>POS other with interest</td>\n",
       "      <td>365243.0</td>\n",
       "      <td>-565.0</td>\n",
       "      <td>125.0</td>\n",
       "      <td>-25.0</td>\n",
       "      <td>-17.0</td>\n",
       "      <td>0.0</td>\n",
       "    </tr>\n",
       "    <tr>\n",
       "      <th>1</th>\n",
       "      <td>100003</td>\n",
       "      <td>0</td>\n",
       "      <td>Cash loans</td>\n",
       "      <td>F</td>\n",
       "      <td>N</td>\n",
       "      <td>N</td>\n",
       "      <td>0</td>\n",
       "      <td>270000.0</td>\n",
       "      <td>1293502.5</td>\n",
       "      <td>35698.5</td>\n",
       "      <td>...</td>\n",
       "      <td>XNA</td>\n",
       "      <td>12.0</td>\n",
       "      <td>low_normal</td>\n",
       "      <td>Cash X-Sell: low</td>\n",
       "      <td>365243.0</td>\n",
       "      <td>-716.0</td>\n",
       "      <td>-386.0</td>\n",
       "      <td>-536.0</td>\n",
       "      <td>-527.0</td>\n",
       "      <td>1.0</td>\n",
       "    </tr>\n",
       "    <tr>\n",
       "      <th>2</th>\n",
       "      <td>100003</td>\n",
       "      <td>0</td>\n",
       "      <td>Cash loans</td>\n",
       "      <td>F</td>\n",
       "      <td>N</td>\n",
       "      <td>N</td>\n",
       "      <td>0</td>\n",
       "      <td>270000.0</td>\n",
       "      <td>1293502.5</td>\n",
       "      <td>35698.5</td>\n",
       "      <td>...</td>\n",
       "      <td>Furniture</td>\n",
       "      <td>6.0</td>\n",
       "      <td>middle</td>\n",
       "      <td>POS industry with interest</td>\n",
       "      <td>365243.0</td>\n",
       "      <td>-797.0</td>\n",
       "      <td>-647.0</td>\n",
       "      <td>-647.0</td>\n",
       "      <td>-639.0</td>\n",
       "      <td>0.0</td>\n",
       "    </tr>\n",
       "    <tr>\n",
       "      <th>3</th>\n",
       "      <td>100003</td>\n",
       "      <td>0</td>\n",
       "      <td>Cash loans</td>\n",
       "      <td>F</td>\n",
       "      <td>N</td>\n",
       "      <td>N</td>\n",
       "      <td>0</td>\n",
       "      <td>270000.0</td>\n",
       "      <td>1293502.5</td>\n",
       "      <td>35698.5</td>\n",
       "      <td>...</td>\n",
       "      <td>Consumer electronics</td>\n",
       "      <td>12.0</td>\n",
       "      <td>middle</td>\n",
       "      <td>POS household with interest</td>\n",
       "      <td>365243.0</td>\n",
       "      <td>-2310.0</td>\n",
       "      <td>-1980.0</td>\n",
       "      <td>-1980.0</td>\n",
       "      <td>-1976.0</td>\n",
       "      <td>1.0</td>\n",
       "    </tr>\n",
       "    <tr>\n",
       "      <th>4</th>\n",
       "      <td>100004</td>\n",
       "      <td>0</td>\n",
       "      <td>Revolving loans</td>\n",
       "      <td>M</td>\n",
       "      <td>Y</td>\n",
       "      <td>Y</td>\n",
       "      <td>0</td>\n",
       "      <td>67500.0</td>\n",
       "      <td>135000.0</td>\n",
       "      <td>6750.0</td>\n",
       "      <td>...</td>\n",
       "      <td>Connectivity</td>\n",
       "      <td>4.0</td>\n",
       "      <td>middle</td>\n",
       "      <td>POS mobile without interest</td>\n",
       "      <td>365243.0</td>\n",
       "      <td>-784.0</td>\n",
       "      <td>-694.0</td>\n",
       "      <td>-724.0</td>\n",
       "      <td>-714.0</td>\n",
       "      <td>0.0</td>\n",
       "    </tr>\n",
       "  </tbody>\n",
       "</table>\n",
       "<p>5 rows × 111 columns</p>\n",
       "</div>"
      ],
      "text/plain": [
       "   SK_ID_CURR  TARGET NAME_CONTRACT_TYPE_Current CODE_GENDER FLAG_OWN_CAR  \\\n",
       "0      100002       1                 Cash loans           M            N   \n",
       "1      100003       0                 Cash loans           F            N   \n",
       "2      100003       0                 Cash loans           F            N   \n",
       "3      100003       0                 Cash loans           F            N   \n",
       "4      100004       0            Revolving loans           M            Y   \n",
       "\n",
       "  FLAG_OWN_REALTY  CNT_CHILDREN  AMT_INCOME_TOTAL  AMT_CREDIT_Current  \\\n",
       "0               Y             0          202500.0            406597.5   \n",
       "1               N             0          270000.0           1293502.5   \n",
       "2               N             0          270000.0           1293502.5   \n",
       "3               N             0          270000.0           1293502.5   \n",
       "4               Y             0           67500.0            135000.0   \n",
       "\n",
       "   AMT_ANNUITY_Current  ...  NAME_SELLER_INDUSTRY CNT_PAYMENT  \\\n",
       "0              24700.5  ...       Auto technology        24.0   \n",
       "1              35698.5  ...                   XNA        12.0   \n",
       "2              35698.5  ...             Furniture         6.0   \n",
       "3              35698.5  ...  Consumer electronics        12.0   \n",
       "4               6750.0  ...          Connectivity         4.0   \n",
       "\n",
       "  NAME_YIELD_GROUP          PRODUCT_COMBINATION DAYS_FIRST_DRAWING  \\\n",
       "0       low_normal      POS other with interest           365243.0   \n",
       "1       low_normal             Cash X-Sell: low           365243.0   \n",
       "2           middle   POS industry with interest           365243.0   \n",
       "3           middle  POS household with interest           365243.0   \n",
       "4           middle  POS mobile without interest           365243.0   \n",
       "\n",
       "  DAYS_FIRST_DUE  DAYS_LAST_DUE_1ST_VERSION  DAYS_LAST_DUE  DAYS_TERMINATION  \\\n",
       "0         -565.0                      125.0          -25.0             -17.0   \n",
       "1         -716.0                     -386.0         -536.0            -527.0   \n",
       "2         -797.0                     -647.0         -647.0            -639.0   \n",
       "3        -2310.0                    -1980.0        -1980.0           -1976.0   \n",
       "4         -784.0                     -694.0         -724.0            -714.0   \n",
       "\n",
       "   NFLAG_INSURED_ON_APPROVAL  \n",
       "0                        0.0  \n",
       "1                        1.0  \n",
       "2                        0.0  \n",
       "3                        1.0  \n",
       "4                        0.0  \n",
       "\n",
       "[5 rows x 111 columns]"
      ]
     },
     "execution_count": 188,
     "metadata": {},
     "output_type": "execute_result"
    }
   ],
   "source": [
    "df_merged.head()"
   ]
  },
  {
   "cell_type": "code",
   "execution_count": 189,
   "id": "55d75f2b",
   "metadata": {},
   "outputs": [
    {
     "data": {
      "text/plain": [
       "(1430155, 111)"
      ]
     },
     "execution_count": 189,
     "metadata": {},
     "output_type": "execute_result"
    }
   ],
   "source": [
    "df_merged.shape"
   ]
  },
  {
   "cell_type": "markdown",
   "id": "184711c6",
   "metadata": {},
   "source": [
    "#### >>UNBALANCED DATA"
   ]
  },
  {
   "cell_type": "code",
   "execution_count": 225,
   "id": "f48e745e",
   "metadata": {},
   "outputs": [
    {
     "name": "stdout",
     "output_type": "stream",
     "text": [
      "<class 'pandas.core.frame.DataFrame'>\n",
      "Int64Index: 1430155 entries, 0 to 1430154\n",
      "Data columns (total 112 columns):\n",
      " #    Column                               Dtype   \n",
      "---   ------                               -----   \n",
      " 0    SK_ID_CURR                           int64   \n",
      " 1    TARGET                               int64   \n",
      " 2    NAME_CONTRACT_TYPE_Current           object  \n",
      " 3    CODE_GENDER                          object  \n",
      " 4    FLAG_OWN_CAR                         object  \n",
      " 5    FLAG_OWN_REALTY                      object  \n",
      " 6    CNT_CHILDREN                         int64   \n",
      " 7    AMT_INCOME_TOTAL                     float64 \n",
      " 8    AMT_CREDIT_Current                   float64 \n",
      " 9    AMT_ANNUITY_Current                  float64 \n",
      " 10   AMT_GOODS_PRICE_Current              float64 \n",
      " 11   NAME_TYPE_SUITE_Current              object  \n",
      " 12   NAME_INCOME_TYPE                     object  \n",
      " 13   NAME_EDUCATION_TYPE                  object  \n",
      " 14   NAME_FAMILY_STATUS                   object  \n",
      " 15   NAME_HOUSING_TYPE                    object  \n",
      " 16   REGION_POPULATION_RELATIVE           float64 \n",
      " 17   DAYS_BIRTH                           int64   \n",
      " 18   DAYS_EMPLOYED                        int64   \n",
      " 19   DAYS_REGISTRATION                    float64 \n",
      " 20   DAYS_ID_PUBLISH                      int64   \n",
      " 21   FLAG_MOBIL                           int64   \n",
      " 22   FLAG_EMP_PHONE                       int64   \n",
      " 23   FLAG_WORK_PHONE                      int64   \n",
      " 24   FLAG_CONT_MOBILE                     int64   \n",
      " 25   FLAG_PHONE                           int64   \n",
      " 26   FLAG_EMAIL                           int64   \n",
      " 27   OCCUPATION_TYPE                      object  \n",
      " 28   CNT_FAM_MEMBERS                      float64 \n",
      " 29   REGION_RATING_CLIENT                 int64   \n",
      " 30   REGION_RATING_CLIENT_W_CITY          int64   \n",
      " 31   WEEKDAY_APPR_PROCESS_START_Current   object  \n",
      " 32   HOUR_APPR_PROCESS_START_Current      int64   \n",
      " 33   REG_REGION_NOT_LIVE_REGION           int64   \n",
      " 34   REG_REGION_NOT_WORK_REGION           int64   \n",
      " 35   LIVE_REGION_NOT_WORK_REGION          int64   \n",
      " 36   REG_CITY_NOT_LIVE_CITY               int64   \n",
      " 37   REG_CITY_NOT_WORK_CITY               int64   \n",
      " 38   LIVE_CITY_NOT_WORK_CITY              int64   \n",
      " 39   ORGANIZATION_TYPE                    object  \n",
      " 40   EXT_SOURCE_2                         float64 \n",
      " 41   EXT_SOURCE_3                         float64 \n",
      " 42   OBS_30_CNT_SOCIAL_CIRCLE             float64 \n",
      " 43   DEF_30_CNT_SOCIAL_CIRCLE             float64 \n",
      " 44   OBS_60_CNT_SOCIAL_CIRCLE             float64 \n",
      " 45   DEF_60_CNT_SOCIAL_CIRCLE             float64 \n",
      " 46   DAYS_LAST_PHONE_CHANGE               float64 \n",
      " 47   FLAG_DOCUMENT_2                      int64   \n",
      " 48   FLAG_DOCUMENT_3                      int64   \n",
      " 49   FLAG_DOCUMENT_4                      int64   \n",
      " 50   FLAG_DOCUMENT_5                      int64   \n",
      " 51   FLAG_DOCUMENT_6                      int64   \n",
      " 52   FLAG_DOCUMENT_7                      int64   \n",
      " 53   FLAG_DOCUMENT_8                      int64   \n",
      " 54   FLAG_DOCUMENT_9                      int64   \n",
      " 55   FLAG_DOCUMENT_10                     int64   \n",
      " 56   FLAG_DOCUMENT_11                     int64   \n",
      " 57   FLAG_DOCUMENT_12                     int64   \n",
      " 58   FLAG_DOCUMENT_13                     int64   \n",
      " 59   FLAG_DOCUMENT_14                     int64   \n",
      " 60   FLAG_DOCUMENT_15                     int64   \n",
      " 61   FLAG_DOCUMENT_16                     int64   \n",
      " 62   FLAG_DOCUMENT_17                     int64   \n",
      " 63   FLAG_DOCUMENT_18                     int64   \n",
      " 64   FLAG_DOCUMENT_19                     int64   \n",
      " 65   FLAG_DOCUMENT_20                     int64   \n",
      " 66   FLAG_DOCUMENT_21                     int64   \n",
      " 67   AMT_REQ_CREDIT_BUREAU_HOUR           float64 \n",
      " 68   AMT_REQ_CREDIT_BUREAU_DAY            float64 \n",
      " 69   AMT_REQ_CREDIT_BUREAU_WEEK           float64 \n",
      " 70   AMT_REQ_CREDIT_BUREAU_MON            float64 \n",
      " 71   AMT_REQ_CREDIT_BUREAU_QRT            float64 \n",
      " 72   AMT_REQ_CREDIT_BUREAU_YEAR           float64 \n",
      " 73   AMT_CREDIT_RANGE                     category\n",
      " 74   DAYS_BIRTH_RANGE                     category\n",
      " 75   SK_ID_PREV                           float64 \n",
      " 76   NAME_CONTRACT_TYPE_Previous          object  \n",
      " 77   AMT_ANNUITY_Previous                 float64 \n",
      " 78   AMT_APPLICATION                      float64 \n",
      " 79   AMT_CREDIT_Previous                  float64 \n",
      " 80   AMT_DOWN_PAYMENT                     float64 \n",
      " 81   AMT_GOODS_PRICE_Previous             float64 \n",
      " 82   WEEKDAY_APPR_PROCESS_START_Previous  object  \n",
      " 83   HOUR_APPR_PROCESS_START_Previous     float64 \n",
      " 84   FLAG_LAST_APPL_PER_CONTRACT          object  \n",
      " 85   NFLAG_LAST_APPL_IN_DAY               float64 \n",
      " 86   RATE_DOWN_PAYMENT                    float64 \n",
      " 87   RATE_INTEREST_PRIMARY                float64 \n",
      " 88   RATE_INTEREST_PRIVILEGED             float64 \n",
      " 89   NAME_CASH_LOAN_PURPOSE               object  \n",
      " 90   NAME_CONTRACT_STATUS                 object  \n",
      " 91   DAYS_DECISION                        float64 \n",
      " 92   NAME_PAYMENT_TYPE                    object  \n",
      " 93   CODE_REJECT_REASON                   object  \n",
      " 94   NAME_TYPE_SUITE_Previous             object  \n",
      " 95   NAME_CLIENT_TYPE                     object  \n",
      " 96   NAME_GOODS_CATEGORY                  object  \n",
      " 97   NAME_PORTFOLIO                       object  \n",
      " 98   NAME_PRODUCT_TYPE                    object  \n",
      " 99   CHANNEL_TYPE                         object  \n",
      " 100  SELLERPLACE_AREA                     float64 \n",
      " 101  NAME_SELLER_INDUSTRY                 object  \n",
      " 102  CNT_PAYMENT                          float64 \n",
      " 103  NAME_YIELD_GROUP                     object  \n",
      " 104  PRODUCT_COMBINATION                  object  \n",
      " 105  DAYS_FIRST_DRAWING                   float64 \n",
      " 106  DAYS_FIRST_DUE                       float64 \n",
      " 107  DAYS_LAST_DUE_1ST_VERSION            float64 \n",
      " 108  DAYS_LAST_DUE                        float64 \n",
      " 109  DAYS_TERMINATION                     float64 \n",
      " 110  NFLAG_INSURED_ON_APPROVAL            float64 \n",
      " 111  AMT_INCOME_TOTAL_RANGE               category\n",
      "dtypes: category(3), float64(40), int64(41), object(28)\n",
      "memory usage: 1.2+ GB\n"
     ]
    }
   ],
   "source": [
    "df_merged.info(verbose=True)"
   ]
  },
  {
   "cell_type": "code",
   "execution_count": 190,
   "id": "d0fce9a9",
   "metadata": {},
   "outputs": [
    {
     "data": {
      "image/png": "[encoded data removed]",
      "text/plain": [
       "<Figure size 432x288 with 1 Axes>"
      ]
     },
     "metadata": {
      "needs_background": "light"
     },
     "output_type": "display_data"
    }
   ],
   "source": [
    "df_merged.TARGET.value_counts(normalize=True).plot.bar()\n",
    "plt.show()"
   ]
  },
  {
   "cell_type": "code",
   "execution_count": 191,
   "id": "297ad7f1",
   "metadata": {},
   "outputs": [],
   "source": [
    "df_merged_0=df_merged[df_merged[\"TARGET\"]==0] #All other cases\n",
    "df_merged_1=df_merged[df_merged[\"TARGET\"]==1] ##Client with payment difficulties"
   ]
  },
  {
   "cell_type": "markdown",
   "id": "874e4a52",
   "metadata": {},
   "source": [
    "#### >>WE CAN SEE PREVIOUSLY BANK WAS PROVIDING CONSUMER LOAN AS WELL BUT IN BOTH CASH LOANS ARE HIGHEST AND WHO ARE TAKING THOSE ARE THE DEFAULTERS"
   ]
  },
  {
   "cell_type": "code",
   "execution_count": 192,
   "id": "9771f801",
   "metadata": {},
   "outputs": [
    {
     "data": {
      "image/png": "[encoded data removed]",
      "text/plain": [
       "<Figure size 720x288 with 2 Axes>"
      ]
     },
     "metadata": {
      "needs_background": "light"
     },
     "output_type": "display_data"
    }
   ],
   "source": [
    "plt.figure(figsize=[10,4])\n",
    "plt.subplot(1,2,1)\n",
    "plt.title(\"NAME_CONTRACT_TYPE_Current\\n\")\n",
    "df_merged_1.NAME_CONTRACT_TYPE_Current.value_counts(normalize=True).plot.bar()\n",
    "plt.subplot(1,2,2)\n",
    "plt.title(\"NAME_CONTRACT_TYPE_Previous\\n\")\n",
    "df_merged_1.NAME_CONTRACT_TYPE_Previous.value_counts(normalize=True).plot.bar()\n",
    "plt.show()"
   ]
  },
  {
   "cell_type": "code",
   "execution_count": 214,
   "id": "91170821",
   "metadata": {},
   "outputs": [
    {
     "data": {
      "image/png": "[encoded data removed]",
      "text/plain": [
       "<Figure size 432x288 with 1 Axes>"
      ]
     },
     "metadata": {
      "needs_background": "light"
     },
     "output_type": "display_data"
    }
   ],
   "source": [
    "sns.countplot(df_merged_1[\"NAME_CONTRACT_STATUS\"],hue=df_merged_1[\"NAME_CONTRACT_TYPE_Current\"]) \n",
    "plt.show()"
   ]
  },
  {
   "cell_type": "markdown",
   "id": "35730088",
   "metadata": {},
   "source": [
    "#### >>INCOME TYPE WORKING PEOPLE APPLICATIONS APPROVED IS HIGHEST"
   ]
  },
  {
   "cell_type": "code",
   "execution_count": 215,
   "id": "2ed14ccd",
   "metadata": {},
   "outputs": [
    {
     "data": {
      "image/png": "[encoded data removed]",
      "text/plain": [
       "<Figure size 432x288 with 1 Axes>"
      ]
     },
     "metadata": {
      "needs_background": "light"
     },
     "output_type": "display_data"
    }
   ],
   "source": [
    "sns.countplot(df_merged_1[\"NAME_CONTRACT_STATUS\"],hue=df_merged_1[\"NAME_INCOME_TYPE\"])  \n",
    "plt.xticks(rotation=90)\n",
    "plt.show()"
   ]
  },
  {
   "cell_type": "markdown",
   "id": "0568d56a",
   "metadata": {},
   "source": [
    "#### >>FEMALE LOAN APPLICATIONS ARE APPROVED MORE THAN MALE"
   ]
  },
  {
   "cell_type": "code",
   "execution_count": 227,
   "id": "0d93ceba",
   "metadata": {},
   "outputs": [
    {
     "data": {
      "image/png": "[encoded data removed]",
      "text/plain": [
       "<Figure size 432x288 with 1 Axes>"
      ]
     },
     "metadata": {
      "needs_background": "light"
     },
     "output_type": "display_data"
    }
   ],
   "source": [
    "sns.countplot(df_merged_1[\"NAME_CONTRACT_STATUS\"],hue=df_merged_1[\"CODE_GENDER\"]) \n",
    "plt.show()"
   ]
  },
  {
   "cell_type": "markdown",
   "id": "f921aeb0",
   "metadata": {},
   "source": [
    "#### >>PEOPLE WHO ARE MARRIED HAVE HIGHEST NO. OF APPROVED LOANS"
   ]
  },
  {
   "cell_type": "code",
   "execution_count": 226,
   "id": "e63c5478",
   "metadata": {},
   "outputs": [
    {
     "data": {
      "image/png": "[encoded data removed]",
      "text/plain": [
       "<Figure size 432x288 with 1 Axes>"
      ]
     },
     "metadata": {
      "needs_background": "light"
     },
     "output_type": "display_data"
    }
   ],
   "source": [
    "sns.countplot(df_merged_1[\"NAME_CONTRACT_STATUS\"],hue=df_merged_1[\"NAME_FAMILY_STATUS\"]) \n",
    "plt.xticks(rotation=90)\n",
    "plt.show()"
   ]
  },
  {
   "cell_type": "markdown",
   "id": "990c63a0",
   "metadata": {},
   "source": [
    "#### >>PEOPLE HAVING SECONDARY EDUCATION HAS MORE APPROVED LOANS APPLICATION"
   ]
  },
  {
   "cell_type": "code",
   "execution_count": 216,
   "id": "516123cc",
   "metadata": {},
   "outputs": [
    {
     "data": {
      "image/png": "[encoded data removed]",
      "text/plain": [
       "<Figure size 432x288 with 1 Axes>"
      ]
     },
     "metadata": {
      "needs_background": "light"
     },
     "output_type": "display_data"
    }
   ],
   "source": [
    "sns.countplot(df_merged_1[\"NAME_CONTRACT_STATUS\"],hue=df_merged_1[\"NAME_EDUCATION_TYPE\"]) \n",
    "plt.xticks(rotation=90)\n",
    "plt.show()"
   ]
  },
  {
   "cell_type": "markdown",
   "id": "19a95f92",
   "metadata": {},
   "source": [
    "#### >>THERE IS MAXIMUM LOANS APPROVED FOR  PEOPLE HAVING THEIR OWN HOUSE/APARTMENT "
   ]
  },
  {
   "cell_type": "code",
   "execution_count": 229,
   "id": "c53389d5",
   "metadata": {},
   "outputs": [
    {
     "data": {
      "image/png": "[encoded data removed]",
      "text/plain": [
       "<Figure size 432x288 with 1 Axes>"
      ]
     },
     "metadata": {
      "needs_background": "light"
     },
     "output_type": "display_data"
    }
   ],
   "source": [
    "sns.countplot(df_merged_1[\"NAME_CONTRACT_STATUS\"],hue=df_merged_1[\"NAME_HOUSING_TYPE\"]) \n",
    "plt.show()"
   ]
  },
  {
   "cell_type": "markdown",
   "id": "2215fe78",
   "metadata": {},
   "source": [
    "#### >>APPLICATION LOANS FOR PEOPLE HAVING AGE OF RANGE (20-40) YRS ARE APPROVED MORE THAN ANY OTHER CATEGORY."
   ]
  },
  {
   "cell_type": "code",
   "execution_count": 218,
   "id": "0da099e7",
   "metadata": {},
   "outputs": [
    {
     "data": {
      "image/png": "[encoded data removed]",
      "text/plain": [
       "<Figure size 432x288 with 1 Axes>"
      ]
     },
     "metadata": {
      "needs_background": "light"
     },
     "output_type": "display_data"
    }
   ],
   "source": [
    "sns.countplot(df_merged_1[\"NAME_CONTRACT_STATUS\"],hue=df_merged_1[\"DAYS_BIRTH_RANGE\"]) \n",
    "plt.show()"
   ]
  },
  {
   "cell_type": "markdown",
   "id": "10d0a227",
   "metadata": {},
   "source": [
    "#### >>THERE IS MAXIMUM NO. OF LOANS APPROVED FOR THE PEOPLE WHO HAVE REPEATED FOR LOAN REQUEST. "
   ]
  },
  {
   "cell_type": "code",
   "execution_count": 220,
   "id": "4b3e32ee",
   "metadata": {},
   "outputs": [
    {
     "data": {
      "image/png": "[encoded data removed]",
      "text/plain": [
       "<Figure size 432x288 with 1 Axes>"
      ]
     },
     "metadata": {
      "needs_background": "light"
     },
     "output_type": "display_data"
    }
   ],
   "source": [
    "sns.countplot(df_merged_1[\"NAME_CONTRACT_STATUS\"],hue=df_merged_1[\"NAME_CLIENT_TYPE\"])  \n",
    "plt.show()"
   ]
  },
  {
   "cell_type": "code",
   "execution_count": 208,
   "id": "0ccfae1e",
   "metadata": {},
   "outputs": [
    {
     "name": "stdout",
     "output_type": "stream",
     "text": [
      "<class 'pandas.core.frame.DataFrame'>\n",
      "Int64Index: 1430155 entries, 0 to 1430154\n",
      "Data columns (total 111 columns):\n",
      " #    Column                               Dtype   \n",
      "---   ------                               -----   \n",
      " 0    SK_ID_CURR                           int64   \n",
      " 1    TARGET                               int64   \n",
      " 2    NAME_CONTRACT_TYPE_Current           object  \n",
      " 3    CODE_GENDER                          object  \n",
      " 4    FLAG_OWN_CAR                         object  \n",
      " 5    FLAG_OWN_REALTY                      object  \n",
      " 6    CNT_CHILDREN                         int64   \n",
      " 7    AMT_INCOME_TOTAL                     float64 \n",
      " 8    AMT_CREDIT_Current                   float64 \n",
      " 9    AMT_ANNUITY_Current                  float64 \n",
      " 10   AMT_GOODS_PRICE_Current              float64 \n",
      " 11   NAME_TYPE_SUITE_Current              object  \n",
      " 12   NAME_INCOME_TYPE                     object  \n",
      " 13   NAME_EDUCATION_TYPE                  object  \n",
      " 14   NAME_FAMILY_STATUS                   object  \n",
      " 15   NAME_HOUSING_TYPE                    object  \n",
      " 16   REGION_POPULATION_RELATIVE           float64 \n",
      " 17   DAYS_BIRTH                           int64   \n",
      " 18   DAYS_EMPLOYED                        int64   \n",
      " 19   DAYS_REGISTRATION                    float64 \n",
      " 20   DAYS_ID_PUBLISH                      int64   \n",
      " 21   FLAG_MOBIL                           int64   \n",
      " 22   FLAG_EMP_PHONE                       int64   \n",
      " 23   FLAG_WORK_PHONE                      int64   \n",
      " 24   FLAG_CONT_MOBILE                     int64   \n",
      " 25   FLAG_PHONE                           int64   \n",
      " 26   FLAG_EMAIL                           int64   \n",
      " 27   OCCUPATION_TYPE                      object  \n",
      " 28   CNT_FAM_MEMBERS                      float64 \n",
      " 29   REGION_RATING_CLIENT                 int64   \n",
      " 30   REGION_RATING_CLIENT_W_CITY          int64   \n",
      " 31   WEEKDAY_APPR_PROCESS_START_Current   object  \n",
      " 32   HOUR_APPR_PROCESS_START_Current      int64   \n",
      " 33   REG_REGION_NOT_LIVE_REGION           int64   \n",
      " 34   REG_REGION_NOT_WORK_REGION           int64   \n",
      " 35   LIVE_REGION_NOT_WORK_REGION          int64   \n",
      " 36   REG_CITY_NOT_LIVE_CITY               int64   \n",
      " 37   REG_CITY_NOT_WORK_CITY               int64   \n",
      " 38   LIVE_CITY_NOT_WORK_CITY              int64   \n",
      " 39   ORGANIZATION_TYPE                    object  \n",
      " 40   EXT_SOURCE_2                         float64 \n",
      " 41   EXT_SOURCE_3                         float64 \n",
      " 42   OBS_30_CNT_SOCIAL_CIRCLE             float64 \n",
      " 43   DEF_30_CNT_SOCIAL_CIRCLE             float64 \n",
      " 44   OBS_60_CNT_SOCIAL_CIRCLE             float64 \n",
      " 45   DEF_60_CNT_SOCIAL_CIRCLE             float64 \n",
      " 46   DAYS_LAST_PHONE_CHANGE               float64 \n",
      " 47   FLAG_DOCUMENT_2                      int64   \n",
      " 48   FLAG_DOCUMENT_3                      int64   \n",
      " 49   FLAG_DOCUMENT_4                      int64   \n",
      " 50   FLAG_DOCUMENT_5                      int64   \n",
      " 51   FLAG_DOCUMENT_6                      int64   \n",
      " 52   FLAG_DOCUMENT_7                      int64   \n",
      " 53   FLAG_DOCUMENT_8                      int64   \n",
      " 54   FLAG_DOCUMENT_9                      int64   \n",
      " 55   FLAG_DOCUMENT_10                     int64   \n",
      " 56   FLAG_DOCUMENT_11                     int64   \n",
      " 57   FLAG_DOCUMENT_12                     int64   \n",
      " 58   FLAG_DOCUMENT_13                     int64   \n",
      " 59   FLAG_DOCUMENT_14                     int64   \n",
      " 60   FLAG_DOCUMENT_15                     int64   \n",
      " 61   FLAG_DOCUMENT_16                     int64   \n",
      " 62   FLAG_DOCUMENT_17                     int64   \n",
      " 63   FLAG_DOCUMENT_18                     int64   \n",
      " 64   FLAG_DOCUMENT_19                     int64   \n",
      " 65   FLAG_DOCUMENT_20                     int64   \n",
      " 66   FLAG_DOCUMENT_21                     int64   \n",
      " 67   AMT_REQ_CREDIT_BUREAU_HOUR           float64 \n",
      " 68   AMT_REQ_CREDIT_BUREAU_DAY            float64 \n",
      " 69   AMT_REQ_CREDIT_BUREAU_WEEK           float64 \n",
      " 70   AMT_REQ_CREDIT_BUREAU_MON            float64 \n",
      " 71   AMT_REQ_CREDIT_BUREAU_QRT            float64 \n",
      " 72   AMT_REQ_CREDIT_BUREAU_YEAR           float64 \n",
      " 73   AMT_CREDIT_RANGE                     category\n",
      " 74   DAYS_BIRTH_RANGE                     category\n",
      " 75   SK_ID_PREV                           float64 \n",
      " 76   NAME_CONTRACT_TYPE_Previous          object  \n",
      " 77   AMT_ANNUITY_Previous                 float64 \n",
      " 78   AMT_APPLICATION                      float64 \n",
      " 79   AMT_CREDIT_Previous                  float64 \n",
      " 80   AMT_DOWN_PAYMENT                     float64 \n",
      " 81   AMT_GOODS_PRICE_Previous             float64 \n",
      " 82   WEEKDAY_APPR_PROCESS_START_Previous  object  \n",
      " 83   HOUR_APPR_PROCESS_START_Previous     float64 \n",
      " 84   FLAG_LAST_APPL_PER_CONTRACT          object  \n",
      " 85   NFLAG_LAST_APPL_IN_DAY               float64 \n",
      " 86   RATE_DOWN_PAYMENT                    float64 \n",
      " 87   RATE_INTEREST_PRIMARY                float64 \n",
      " 88   RATE_INTEREST_PRIVILEGED             float64 \n",
      " 89   NAME_CASH_LOAN_PURPOSE               object  \n",
      " 90   NAME_CONTRACT_STATUS                 object  \n",
      " 91   DAYS_DECISION                        float64 \n",
      " 92   NAME_PAYMENT_TYPE                    object  \n",
      " 93   CODE_REJECT_REASON                   object  \n",
      " 94   NAME_TYPE_SUITE_Previous             object  \n",
      " 95   NAME_CLIENT_TYPE                     object  \n",
      " 96   NAME_GOODS_CATEGORY                  object  \n",
      " 97   NAME_PORTFOLIO                       object  \n",
      " 98   NAME_PRODUCT_TYPE                    object  \n",
      " 99   CHANNEL_TYPE                         object  \n",
      " 100  SELLERPLACE_AREA                     float64 \n",
      " 101  NAME_SELLER_INDUSTRY                 object  \n",
      " 102  CNT_PAYMENT                          float64 \n",
      " 103  NAME_YIELD_GROUP                     object  \n",
      " 104  PRODUCT_COMBINATION                  object  \n",
      " 105  DAYS_FIRST_DRAWING                   float64 \n",
      " 106  DAYS_FIRST_DUE                       float64 \n",
      " 107  DAYS_LAST_DUE_1ST_VERSION            float64 \n",
      " 108  DAYS_LAST_DUE                        float64 \n",
      " 109  DAYS_TERMINATION                     float64 \n",
      " 110  NFLAG_INSURED_ON_APPROVAL            float64 \n",
      "dtypes: category(2), float64(40), int64(41), object(28)\n",
      "memory usage: 1.2+ GB\n"
     ]
    }
   ],
   "source": [
    "df_merged.info(verbose=True)"
   ]
  },
  {
   "cell_type": "markdown",
   "id": "68c6b546",
   "metadata": {},
   "source": [
    "#### >>MAXIMUM LOAN APPLICATION APPROVED FOR THE PEOPLE HAVING MEDIUM(270000.0-513531.0) AND HIGH(513531.0-808650.0) CREDIT AMOUNT RANGE."
   ]
  },
  {
   "cell_type": "code",
   "execution_count": 222,
   "id": "68a1aad2",
   "metadata": {},
   "outputs": [
    {
     "data": {
      "image/png": "[encoded data removed]",
      "text/plain": [
       "<Figure size 432x288 with 1 Axes>"
      ]
     },
     "metadata": {
      "needs_background": "light"
     },
     "output_type": "display_data"
    }
   ],
   "source": [
    "#Low range = [0-45000.0]\n",
    "#Average range=[45000.0-270000.0]\n",
    "#Medium range=[270000.0-513531.0]\n",
    "#High range=[513531.0-808650.0]\n",
    "#Ver-high range=[808650.0-4050000.0]\n",
    "\n",
    "sns.countplot(df_merged_1[\"NAME_CONTRACT_STATUS\"],hue=df_merged_1[\"AMT_CREDIT_RANGE\"]) \n",
    "plt.show()"
   ]
  },
  {
   "cell_type": "code",
   "execution_count": 209,
   "id": "80bf4f05",
   "metadata": {},
   "outputs": [
    {
     "data": {
      "text/plain": [
       "0.00        25650.0\n",
       "0.25       112500.0\n",
       "0.50       157500.0\n",
       "0.75       211500.0\n",
       "1.00    117000000.0\n",
       "Name: AMT_INCOME_TOTAL, dtype: float64"
      ]
     },
     "execution_count": 209,
     "metadata": {},
     "output_type": "execute_result"
    }
   ],
   "source": [
    "df_merged.AMT_INCOME_TOTAL.quantile([0,0.25,0.50,0.75,1])"
   ]
  },
  {
   "cell_type": "code",
   "execution_count": 210,
   "id": "195f1877",
   "metadata": {},
   "outputs": [],
   "source": [
    "#Low range = [0-25650.0]\n",
    "#Average range=[25650.0-125010.0]\n",
    "#Medium range=[125010.0-157500.0]\n",
    "#High range=[157500.0-211500.0]\n",
    "#Ver-high range=[211500.0-117000000.0]\n",
    "\n",
    "\n",
    "df_merged[\"AMT_INCOME_TOTAL_RANGE\"]=pd.cut(df_merged.AMT_INCOME_TOTAL,[0,25650.0,112500.0,157500.0,211500.0,117000000.0],labels=[\"low\",\"average\",\"medium\",\"high\",\"very-high\"])"
   ]
  },
  {
   "cell_type": "code",
   "execution_count": 211,
   "id": "52688b2b",
   "metadata": {},
   "outputs": [],
   "source": [
    "df_merged_0=df_merged[df_merged[\"TARGET\"]==0] #All other cases\n",
    "df_merged_1=df_merged[df_merged[\"TARGET\"]==1] ##Client with payment difficulties"
   ]
  },
  {
   "cell_type": "markdown",
   "id": "c6932c31",
   "metadata": {},
   "source": [
    "#### >>MAXIMUM LOAN APPLICATION APPROVED FOR THE PEOPLE HAVING AVERAGE(25650.0-125010.0) AND MEDIUM(125010.0-157500.0) INCOME TOTAL  AMOUNT RANGE."
   ]
  },
  {
   "cell_type": "code",
   "execution_count": 223,
   "id": "a185e18e",
   "metadata": {},
   "outputs": [
    {
     "data": {
      "image/png": "[encoded data removed]",
      "text/plain": [
       "<Figure size 432x288 with 1 Axes>"
      ]
     },
     "metadata": {
      "needs_background": "light"
     },
     "output_type": "display_data"
    }
   ],
   "source": [
    "#Low range = [0-25650.0]\n",
    "#Average range=[25650.0-125010.0]\n",
    "#Medium range=[125010.0-157500.0]\n",
    "#High range=[157500.0-211500.0]\n",
    "#Ver-high range=[211500.0-117000000.0]\n",
    "\n",
    "\n",
    "sns.countplot(df_merged_1[\"NAME_CONTRACT_STATUS\"],hue=df_merged_1[\"AMT_INCOME_TOTAL_RANGE\"]) \n",
    "plt.show()"
   ]
  },
  {
   "cell_type": "markdown",
   "id": "4de8b7a1",
   "metadata": {},
   "source": [
    "#### >>FAMILIES WITH MEMBER OF (2-3 PEOPLES) HAVE MORE APPROVED LOANS."
   ]
  },
  {
   "cell_type": "code",
   "execution_count": 224,
   "id": "ece664f4",
   "metadata": {},
   "outputs": [
    {
     "data": {
      "image/png": "[encoded data removed]",
      "text/plain": [
       "<Figure size 432x288 with 1 Axes>"
      ]
     },
     "metadata": {
      "needs_background": "light"
     },
     "output_type": "display_data"
    }
   ],
   "source": [
    "sns.countplot(df_merged_1[\"NAME_CONTRACT_STATUS\"],hue=df_merged_1[\"CNT_FAM_MEMBERS\"]) \n",
    "plt.show()"
   ]
  },
  {
   "cell_type": "markdown",
   "id": "841a5ee7",
   "metadata": {},
   "source": [
    "### CONCLUSION FROM MERGED DATA OF PREVIOUS AND CURRENT APPLICATION:-\n",
    "#### >>WE CAN SEE PREVIOUSLY BANK WAS PROVIDING CONSUMER LOAN AS WELL BUT IN BOTH CASH LOANS ARE HIGHEST AND WHO ARE TAKING THOSE ARE THE DEFAULTERS\n",
    "#### >>INCOME TYPE WORKING PEOPLE APPLICATIONS APPROVED IS HIGHEST\n",
    "#### >>FEMALE LOAN APPLICATIONS ARE APPROVED MORE THAN MALE\n",
    "#### >>PEOPLE WHO ARE MARRIED HAVE HIGHEST NO. OF APPROVED LOANS\n",
    "#### >>PEOPLE HAVING SECONDARY EDUCATION HAS MORE APPROVED LOANS APPLICATION\n",
    "#### >>THERE IS MAXIMUM LOANS APPROVED FOR PEOPLE HAVING THEIR OWN HOUSE/APARTMENT\n",
    "#### >>APPLICATION LOANS FOR PEOPLE HAVING AGE OF RANGE (20-40) YRS ARE APPROVED MORE THAN ANY OTHER CATEGORY.\n",
    "#### >>THERE IS MAXIMUM NO. OF LOANS APPROVED FOR THE PEOPLE WHO HAVE REPEATED FOR LOAN REQUEST.\n",
    "#### >>MAXIMUM LOAN APPLICATION APPROVED FOR THE PEOPLE HAVING MEDIUM(270000.0-513531.0) AND HIGH(513531.0-808650.0) CREDIT AMOUNT RANGE.\n",
    "#### >>MAXIMUM LOAN APPLICATION APPROVED FOR THE PEOPLE HAVING AVERAGE(25650.0-125010.0) AND MEDIUM(125010.0-157500.0) INCOME TOTAL AMOUNT RANGE.\n",
    "#### >>FAMILIES WITH MEMBER OF (2-3 PEOPLES) HAVE MORE APPROVED LOANS."
   ]
  },
  {
   "cell_type": "markdown",
   "id": "3311d4b6",
   "metadata": {},
   "source": [
    "## FINAL CONCLUSION WE CAN MAKE HERE AS PER THE ANALYSIS:-"
   ]
  },
  {
   "cell_type": "markdown",
   "id": "13f97b41",
   "metadata": {},
   "source": [
    "### FOR REDUCING THE RISK OF LOSS BEFORE APPROVING THE LOANS ,FACTORS OR COLUMNS WHICH IS RESPONSILBE ARE:-\n",
    "### >>GENDER WHICH IS CODE_GENDER \n",
    "### >>INCOME TYPE WHICH IS NAME_INCOME_TYPE\n",
    "### >>AGE OF PEOPLE WHICH IS DAYS_BIRTH \n",
    "### >>TOTAL INCOME AMOUNT WHICH IS AMT_INCOME_TOTAL\n",
    "### >>TOTAL CREDIT AMOUT WHICH IS AMT_CREDIT\n",
    "### >>EDUCATION TYPE OF PERSON WHICH IS NAME_EDUCATION_TYPE\n",
    "### >>HOUSING TYPE OF PERSON WHICH IS NAME_HOUSING_TYPE\n",
    "### >>TYPE OF CLINET WHICH IS NAME_CLIENT_TYPE.\n",
    "### >>FAMILY STATUS WHICH IS NAME_FAMILY_STATUS"
   ]
  }
 ],
 "metadata": {
  "kernelspec": {
   "display_name": "Python 3 (ipykernel)",
   "language": "python",
   "name": "python3"
  },
  "language_info": {
   "codemirror_mode": {
    "name": "ipython",
    "version": 3
   },
   "file_extension": ".py",
   "mimetype": "text/x-python",
   "name": "python",
   "nbconvert_exporter": "python",
   "pygments_lexer": "ipython3",
   "version": "3.9.7"
  }
 },
 "nbformat": 4,
 "nbformat_minor": 5
}
